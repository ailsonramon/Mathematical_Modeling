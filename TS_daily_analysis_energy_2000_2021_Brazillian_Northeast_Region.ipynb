{
  "nbformat": 4,
  "nbformat_minor": 0,
  "metadata": {
    "colab": {
      "name": "TS_daily_analysis_energy_2000_2021_Brazillian_Northeast_Region.ipynb",
      "provenance": [],
      "authorship_tag": "ABX9TyMfEyOrbFQYdnOvaRKtQfL3",
      "include_colab_link": true
    },
    "kernelspec": {
      "name": "python3",
      "display_name": "Python 3"
    }
  },
  "cells": [
    {
      "cell_type": "markdown",
      "metadata": {
        "id": "view-in-github",
        "colab_type": "text"
      },
      "source": [
        "<a href=\"https://colab.research.google.com/github/ailsonramon/Mathematical_Modeling/blob/main/TS_daily_analysis_energy_2000_2021_Brazillian_Northeast_Region.ipynb\" target=\"_parent\"><img src=\"https://colab.research.google.com/assets/colab-badge.svg\" alt=\"Open In Colab\"/></a>"
      ]
    },
    {
      "cell_type": "markdown",
      "metadata": {
        "id": "hEC_mIbgdm60"
      },
      "source": [
        "#Introdução a séries temporais\n",
        "\n",
        "Uma série temporal é definida como um conjunto de valores que se modificam em intervalos iguais de tempo. \n",
        "\n",
        "Exemplo\n",
        "* Valor de ativos na bolsa de valores\n",
        "* População de um pais\n",
        "* Quantidades de passageiros \n",
        "\n",
        "Os modelos utilizados para descrever séries temporais são **processos estocásticos**, isto é, processos controlados por leis probabilísticas. "
      ]
    },
    {
      "cell_type": "markdown",
      "metadata": {
        "id": "RcnpwQRcxY6w"
      },
      "source": [
        "#Importação das libs e dataset"
      ]
    },
    {
      "cell_type": "code",
      "metadata": {
        "id": "Sd_gdxvkAWE6",
        "colab": {
          "base_uri": "https://localhost:8080/"
        },
        "outputId": "a3e18932-e5f6-4aa6-885f-16b7d993f469"
      },
      "source": [
        "from google.colab import drive\n",
        "drive.mount('/content/drive/')\n",
        "import pandas as pd\n",
        "import numpy as np\n",
        "import matplotlib as mpl\n",
        "import matplotlib.pyplot as plt\n",
        "import seaborn as sns\n",
        "from datetime import datetime\n",
        "\n",
        "# melhorar a visualização\n",
        "pd.set_option('max_columns',170)\n",
        "%matplotlib inline\n",
        "%config InlineBackend.figure_format = 'svg'"
      ],
      "execution_count": 25,
      "outputs": [
        {
          "output_type": "stream",
          "text": [
            "Drive already mounted at /content/drive/; to attempt to forcibly remount, call drive.mount(\"/content/drive/\", force_remount=True).\n"
          ],
          "name": "stdout"
        }
      ]
    },
    {
      "cell_type": "code",
      "metadata": {
        "colab": {
          "base_uri": "https://localhost:8080/"
        },
        "id": "jPJl71EZ4FjP",
        "outputId": "0d7807f5-bd1c-46b6-9182-7d05dfad1e59"
      },
      "source": [
        "\n",
        "  #importa o dataset para um Dataframe\n",
        "col_list = [\"Data Escala de Tempo 1 DM Simp 4\",\"Selecione Tipo de DM Simp 4\"]\n",
        "time = \"Data Escala de Tempo 1 DM Simp 4\"\n",
        "dateparse = lambda dates: pd.datetime.strptime(dates, '%d/%m/%Y %H:%M') \n",
        "ts = pd.read_csv('/content/drive/Shareddrives/Modelagem_Analitica/Ailson/2000_2021_Brazilian_Northeast_Region_daily_MW_instantaneous_maximum_demand_series.csv'\n",
        "     ,usecols=col_list)#, squeeze=True)\n",
        "\n",
        "#transformar csv\n",
        "#fazer as abordagens inicias da serie temporal\n",
        "ts.info()"
      ],
      "execution_count": 26,
      "outputs": [
        {
          "output_type": "stream",
          "text": [
            "<class 'pandas.core.frame.DataFrame'>\n",
            "RangeIndex: 7701 entries, 0 to 7700\n",
            "Data columns (total 2 columns):\n",
            " #   Column                            Non-Null Count  Dtype  \n",
            "---  ------                            --------------  -----  \n",
            " 0   Data Escala de Tempo 1 DM Simp 4  7701 non-null   object \n",
            " 1   Selecione Tipo de DM Simp 4       7701 non-null   float64\n",
            "dtypes: float64(1), object(1)\n",
            "memory usage: 120.5+ KB\n"
          ],
          "name": "stdout"
        }
      ]
    },
    {
      "cell_type": "code",
      "metadata": {
        "colab": {
          "base_uri": "https://localhost:8080/"
        },
        "id": "KoqbOzMEalXr",
        "outputId": "55d1a665-1f0f-45b2-ef8f-3ac669eca4b0"
      },
      "source": [
        "print(len(ts))"
      ],
      "execution_count": 51,
      "outputs": [
        {
          "output_type": "stream",
          "text": [
            "7701\n"
          ],
          "name": "stdout"
        }
      ]
    },
    {
      "cell_type": "code",
      "metadata": {
        "colab": {
          "base_uri": "https://localhost:8080/"
        },
        "id": "7hlOApLaAVux",
        "outputId": "71dff7c4-ff4e-45fc-ba89-14726f802841"
      },
      "source": [
        "#tratamento de dados via shell\n",
        "%%shell\n",
        "cut -d, -f2-7 --complement /content/drive/Shareddrives/Modelagem_Analitica/Ailson/2000_2021_Brazilian_Northeast_Region_daily_MW_instantaneous_maximum_demand_series.csv > timeserie.csv\n",
        "sed -i '1 d' timeserie.csv\n",
        "sed -i  's/12:00:00 AM//g; s/1:00:00 AM//g' timeserie.csv\n",
        "sed -i 's/ ,/,/g' timeserie.csv\n",
        "\n"
      ],
      "execution_count": 29,
      "outputs": [
        {
          "output_type": "execute_result",
          "data": {
            "text/plain": [
              ""
            ]
          },
          "metadata": {
            "tags": []
          },
          "execution_count": 29
        }
      ]
    },
    {
      "cell_type": "code",
      "metadata": {
        "colab": {
          "base_uri": "https://localhost:8080/",
          "height": 374
        },
        "id": "fb9W87THClBH",
        "outputId": "7f40ec8f-5fb4-4a34-c63b-6518c45214b5"
      },
      "source": [
        "ts_csv = pd.read_csv(\"/content/timeserie.csv\", index_col=0)\n",
        "ts_csv.info()\n",
        "ts_csv.head()"
      ],
      "execution_count": 45,
      "outputs": [
        {
          "output_type": "stream",
          "text": [
            "<class 'pandas.core.frame.DataFrame'>\n",
            "Index: 7700 entries, 1/2/2000 to 1/31/2021\n",
            "Data columns (total 1 columns):\n",
            " #   Column  Non-Null Count  Dtype  \n",
            "---  ------  --------------  -----  \n",
            " 0   6205    7700 non-null   float64\n",
            "dtypes: float64(1)\n",
            "memory usage: 120.3+ KB\n"
          ],
          "name": "stdout"
        },
        {
          "output_type": "execute_result",
          "data": {
            "text/html": [
              "<div>\n",
              "<style scoped>\n",
              "    .dataframe tbody tr th:only-of-type {\n",
              "        vertical-align: middle;\n",
              "    }\n",
              "\n",
              "    .dataframe tbody tr th {\n",
              "        vertical-align: top;\n",
              "    }\n",
              "\n",
              "    .dataframe thead th {\n",
              "        text-align: right;\n",
              "    }\n",
              "</style>\n",
              "<table border=\"1\" class=\"dataframe\">\n",
              "  <thead>\n",
              "    <tr style=\"text-align: right;\">\n",
              "      <th></th>\n",
              "      <th>6205</th>\n",
              "    </tr>\n",
              "    <tr>\n",
              "      <th>1/1/2000</th>\n",
              "      <th></th>\n",
              "    </tr>\n",
              "  </thead>\n",
              "  <tbody>\n",
              "    <tr>\n",
              "      <th>1/2/2000</th>\n",
              "      <td>6797.0</td>\n",
              "    </tr>\n",
              "    <tr>\n",
              "      <th>1/3/2000</th>\n",
              "      <td>7024.0</td>\n",
              "    </tr>\n",
              "    <tr>\n",
              "      <th>1/4/2000</th>\n",
              "      <td>6921.0</td>\n",
              "    </tr>\n",
              "    <tr>\n",
              "      <th>1/5/2000</th>\n",
              "      <td>7025.0</td>\n",
              "    </tr>\n",
              "    <tr>\n",
              "      <th>1/6/2000</th>\n",
              "      <td>6881.0</td>\n",
              "    </tr>\n",
              "  </tbody>\n",
              "</table>\n",
              "</div>"
            ],
            "text/plain": [
              "            6205\n",
              "1/1/2000        \n",
              "1/2/2000  6797.0\n",
              "1/3/2000  7024.0\n",
              "1/4/2000  6921.0\n",
              "1/5/2000  7025.0\n",
              "1/6/2000  6881.0"
            ]
          },
          "metadata": {
            "tags": []
          },
          "execution_count": 45
        }
      ]
    },
    {
      "cell_type": "code",
      "metadata": {
        "colab": {
          "base_uri": "https://localhost:8080/"
        },
        "id": "_QLyJY0apgMp",
        "outputId": "a2a642f2-68ea-46ee-9e25-951443c1b331"
      },
      "source": [
        "type(ts_csv)"
      ],
      "execution_count": 71,
      "outputs": [
        {
          "output_type": "execute_result",
          "data": {
            "text/plain": [
              "pandas.core.frame.DataFrame"
            ]
          },
          "metadata": {
            "tags": []
          },
          "execution_count": 71
        }
      ]
    },
    {
      "cell_type": "code",
      "metadata": {
        "colab": {
          "base_uri": "https://localhost:8080/"
        },
        "id": "XnkuNGoaEj_R",
        "outputId": "f7003a01-9ba3-4f6c-c375-e1ae332283cf"
      },
      "source": [
        "dateparse = lambda dates: datetime.strptime(dates, '%m/%d/%Y') \n",
        "ts_format = pd.read_csv('timeserie.csv', parse_dates=True, index_col=0,date_parser=dateparse, squeeze=True) \n",
        "type(ts_format)"
      ],
      "execution_count": 49,
      "outputs": [
        {
          "output_type": "execute_result",
          "data": {
            "text/plain": [
              "pandas.core.series.Series"
            ]
          },
          "metadata": {
            "tags": []
          },
          "execution_count": 49
        }
      ]
    },
    {
      "cell_type": "code",
      "metadata": {
        "colab": {
          "base_uri": "https://localhost:8080/"
        },
        "id": "nmo9z0KuYL0f",
        "outputId": "6eaad2b7-2611-423b-fbe1-b61dbce935e1"
      },
      "source": [
        "print(len(ts_format))"
      ],
      "execution_count": 48,
      "outputs": [
        {
          "output_type": "stream",
          "text": [
            "7700\n"
          ],
          "name": "stdout"
        }
      ]
    },
    {
      "cell_type": "code",
      "metadata": {
        "colab": {
          "base_uri": "https://localhost:8080/"
        },
        "id": "dd4el5w0pTyC",
        "outputId": "97805840-f6c4-4497-b4a0-1e626e1ba52c"
      },
      "source": [
        "ts_format.head()"
      ],
      "execution_count": 68,
      "outputs": [
        {
          "output_type": "execute_result",
          "data": {
            "text/plain": [
              "1/1/2000\n",
              "2000-01-02    6797.0\n",
              "2000-01-03    7024.0\n",
              "2000-01-04    6921.0\n",
              "2000-01-05    7025.0\n",
              "2000-01-06    6881.0\n",
              "Name: 6205, dtype: float64"
            ]
          },
          "metadata": {
            "tags": []
          },
          "execution_count": 68
        }
      ]
    },
    {
      "cell_type": "code",
      "metadata": {
        "colab": {
          "base_uri": "https://localhost:8080/"
        },
        "id": "lRScnPhqYZym",
        "outputId": "dfe3ed8c-3c75-458d-9a8f-3c8cc9073b5e"
      },
      "source": [
        "type(ts_format)"
      ],
      "execution_count": 40,
      "outputs": [
        {
          "output_type": "execute_result",
          "data": {
            "text/plain": [
              "pandas.core.series.Series"
            ]
          },
          "metadata": {
            "tags": []
          },
          "execution_count": 40
        }
      ]
    },
    {
      "cell_type": "code",
      "metadata": {
        "colab": {
          "base_uri": "https://localhost:8080/"
        },
        "id": "56EW6RK8DySh",
        "outputId": "ec915e63-3ff2-4870-f78c-f176ff7da5ec"
      },
      "source": [
        "ts.index"
      ],
      "execution_count": 41,
      "outputs": [
        {
          "output_type": "execute_result",
          "data": {
            "text/plain": [
              "RangeIndex(start=0, stop=7701, step=1)"
            ]
          },
          "metadata": {
            "tags": []
          },
          "execution_count": 41
        }
      ]
    },
    {
      "cell_type": "markdown",
      "metadata": {
        "id": "E1mRH8weQfku"
      },
      "source": [
        "#Análise exploratória dos dados"
      ]
    },
    {
      "cell_type": "markdown",
      "metadata": {
        "id": "Ko_lOcJDWgH0"
      },
      "source": [
        "Análise do gráfico"
      ]
    },
    {
      "cell_type": "code",
      "metadata": {
        "colab": {
          "base_uri": "https://localhost:8080/",
          "height": 388
        },
        "id": "VqLeGORXQcfe",
        "outputId": "599c4b14-1efa-4295-eab7-706c329050da"
      },
      "source": [
        "#Select a percentage from the time series\n",
        "data_proportion = lambda serie, percent=1.0: serie[-int(percent * len(serie)):]\n",
        "ts_50_per = data_proportion(ts_format, percent=0.50)\n",
        "print(f'Total data:{len(ts_50_per)}')\n",
        "plt.plot(ts_50_per)"
      ],
      "execution_count": 66,
      "outputs": [
        {
          "output_type": "stream",
          "text": [
            "Total data:3850\n"
          ],
          "name": "stdout"
        },
        {
          "output_type": "execute_result",
          "data": {
            "text/plain": [
              "[<matplotlib.lines.Line2D at 0x7ff534acea58>]"
            ]
          },
          "metadata": {
            "tags": []
          },
          "execution_count": 66
        },
        {
          "output_type": "display_data",
          "data": {
            "text/plain": [
              "<Figure size 432x288 with 1 Axes>"
            ],
            "image/svg+xml": "<?xml version=\"1.0\" encoding=\"utf-8\" standalone=\"no\"?>\n<!DOCTYPE svg PUBLIC \"-//W3C//DTD SVG 1.1//EN\"\n  \"http://www.w3.org/Graphics/SVG/1.1/DTD/svg11.dtd\">\n<!-- Created with matplotlib (https://matplotlib.org/) -->\n<svg height=\"248.518125pt\" version=\"1.1\" viewBox=\"0 0 388.0125 248.518125\" width=\"388.0125pt\" xmlns=\"http://www.w3.org/2000/svg\" xmlns:xlink=\"http://www.w3.org/1999/xlink\">\n <defs>\n  <style type=\"text/css\">\n*{stroke-linecap:butt;stroke-linejoin:round;}\n  </style>\n </defs>\n <g id=\"figure_1\">\n  <g id=\"patch_1\">\n   <path d=\"M 0 248.518125 \nL 388.0125 248.518125 \nL 388.0125 0 \nL 0 0 \nz\n\" style=\"fill:none;\"/>\n  </g>\n  <g id=\"axes_1\">\n   <g id=\"patch_2\">\n    <path d=\"M 46.0125 224.64 \nL 380.8125 224.64 \nL 380.8125 7.2 \nL 46.0125 7.2 \nz\n\" style=\"fill:#ffffff;\"/>\n   </g>\n   <g id=\"matplotlib.axis_1\">\n    <g id=\"xtick_1\">\n     <g id=\"line2d_1\">\n      <defs>\n       <path d=\"M 0 0 \nL 0 3.5 \n\" id=\"m18a8e29308\" style=\"stroke:#000000;stroke-width:0.8;\"/>\n      </defs>\n      <g>\n       <use style=\"stroke:#000000;stroke-width:0.8;\" x=\"103.288202\" xlink:href=\"#m18a8e29308\" y=\"224.64\"/>\n      </g>\n     </g>\n     <g id=\"text_1\">\n      <!-- 2012 -->\n      <defs>\n       <path d=\"M 19.1875 8.296875 \nL 53.609375 8.296875 \nL 53.609375 0 \nL 7.328125 0 \nL 7.328125 8.296875 \nQ 12.9375 14.109375 22.625 23.890625 \nQ 32.328125 33.6875 34.8125 36.53125 \nQ 39.546875 41.84375 41.421875 45.53125 \nQ 43.3125 49.21875 43.3125 52.78125 \nQ 43.3125 58.59375 39.234375 62.25 \nQ 35.15625 65.921875 28.609375 65.921875 \nQ 23.96875 65.921875 18.8125 64.3125 \nQ 13.671875 62.703125 7.8125 59.421875 \nL 7.8125 69.390625 \nQ 13.765625 71.78125 18.9375 73 \nQ 24.125 74.21875 28.421875 74.21875 \nQ 39.75 74.21875 46.484375 68.546875 \nQ 53.21875 62.890625 53.21875 53.421875 \nQ 53.21875 48.921875 51.53125 44.890625 \nQ 49.859375 40.875 45.40625 35.40625 \nQ 44.1875 33.984375 37.640625 27.21875 \nQ 31.109375 20.453125 19.1875 8.296875 \nz\n\" id=\"DejaVuSans-50\"/>\n       <path d=\"M 31.78125 66.40625 \nQ 24.171875 66.40625 20.328125 58.90625 \nQ 16.5 51.421875 16.5 36.375 \nQ 16.5 21.390625 20.328125 13.890625 \nQ 24.171875 6.390625 31.78125 6.390625 \nQ 39.453125 6.390625 43.28125 13.890625 \nQ 47.125 21.390625 47.125 36.375 \nQ 47.125 51.421875 43.28125 58.90625 \nQ 39.453125 66.40625 31.78125 66.40625 \nz\nM 31.78125 74.21875 \nQ 44.046875 74.21875 50.515625 64.515625 \nQ 56.984375 54.828125 56.984375 36.375 \nQ 56.984375 17.96875 50.515625 8.265625 \nQ 44.046875 -1.421875 31.78125 -1.421875 \nQ 19.53125 -1.421875 13.0625 8.265625 \nQ 6.59375 17.96875 6.59375 36.375 \nQ 6.59375 54.828125 13.0625 64.515625 \nQ 19.53125 74.21875 31.78125 74.21875 \nz\n\" id=\"DejaVuSans-48\"/>\n       <path d=\"M 12.40625 8.296875 \nL 28.515625 8.296875 \nL 28.515625 63.921875 \nL 10.984375 60.40625 \nL 10.984375 69.390625 \nL 28.421875 72.90625 \nL 38.28125 72.90625 \nL 38.28125 8.296875 \nL 54.390625 8.296875 \nL 54.390625 0 \nL 12.40625 0 \nz\n\" id=\"DejaVuSans-49\"/>\n      </defs>\n      <g transform=\"translate(90.563202 239.238438)scale(0.1 -0.1)\">\n       <use xlink:href=\"#DejaVuSans-50\"/>\n       <use x=\"63.623047\" xlink:href=\"#DejaVuSans-48\"/>\n       <use x=\"127.246094\" xlink:href=\"#DejaVuSans-49\"/>\n       <use x=\"190.869141\" xlink:href=\"#DejaVuSans-50\"/>\n      </g>\n     </g>\n    </g>\n    <g id=\"xtick_2\">\n     <g id=\"line2d_2\">\n      <g>\n       <use style=\"stroke:#000000;stroke-width:0.8;\" x=\"161.077766\" xlink:href=\"#m18a8e29308\" y=\"224.64\"/>\n      </g>\n     </g>\n     <g id=\"text_2\">\n      <!-- 2014 -->\n      <defs>\n       <path d=\"M 37.796875 64.3125 \nL 12.890625 25.390625 \nL 37.796875 25.390625 \nz\nM 35.203125 72.90625 \nL 47.609375 72.90625 \nL 47.609375 25.390625 \nL 58.015625 25.390625 \nL 58.015625 17.1875 \nL 47.609375 17.1875 \nL 47.609375 0 \nL 37.796875 0 \nL 37.796875 17.1875 \nL 4.890625 17.1875 \nL 4.890625 26.703125 \nz\n\" id=\"DejaVuSans-52\"/>\n      </defs>\n      <g transform=\"translate(148.352766 239.238438)scale(0.1 -0.1)\">\n       <use xlink:href=\"#DejaVuSans-50\"/>\n       <use x=\"63.623047\" xlink:href=\"#DejaVuSans-48\"/>\n       <use x=\"127.246094\" xlink:href=\"#DejaVuSans-49\"/>\n       <use x=\"190.869141\" xlink:href=\"#DejaVuSans-52\"/>\n      </g>\n     </g>\n    </g>\n    <g id=\"xtick_3\">\n     <g id=\"line2d_3\">\n      <g>\n       <use style=\"stroke:#000000;stroke-width:0.8;\" x=\"218.788273\" xlink:href=\"#m18a8e29308\" y=\"224.64\"/>\n      </g>\n     </g>\n     <g id=\"text_3\">\n      <!-- 2016 -->\n      <defs>\n       <path d=\"M 33.015625 40.375 \nQ 26.375 40.375 22.484375 35.828125 \nQ 18.609375 31.296875 18.609375 23.390625 \nQ 18.609375 15.53125 22.484375 10.953125 \nQ 26.375 6.390625 33.015625 6.390625 \nQ 39.65625 6.390625 43.53125 10.953125 \nQ 47.40625 15.53125 47.40625 23.390625 \nQ 47.40625 31.296875 43.53125 35.828125 \nQ 39.65625 40.375 33.015625 40.375 \nz\nM 52.59375 71.296875 \nL 52.59375 62.3125 \nQ 48.875 64.0625 45.09375 64.984375 \nQ 41.3125 65.921875 37.59375 65.921875 \nQ 27.828125 65.921875 22.671875 59.328125 \nQ 17.53125 52.734375 16.796875 39.40625 \nQ 19.671875 43.65625 24.015625 45.921875 \nQ 28.375 48.1875 33.59375 48.1875 \nQ 44.578125 48.1875 50.953125 41.515625 \nQ 57.328125 34.859375 57.328125 23.390625 \nQ 57.328125 12.15625 50.6875 5.359375 \nQ 44.046875 -1.421875 33.015625 -1.421875 \nQ 20.359375 -1.421875 13.671875 8.265625 \nQ 6.984375 17.96875 6.984375 36.375 \nQ 6.984375 53.65625 15.1875 63.9375 \nQ 23.390625 74.21875 37.203125 74.21875 \nQ 40.921875 74.21875 44.703125 73.484375 \nQ 48.484375 72.75 52.59375 71.296875 \nz\n\" id=\"DejaVuSans-54\"/>\n      </defs>\n      <g transform=\"translate(206.063273 239.238438)scale(0.1 -0.1)\">\n       <use xlink:href=\"#DejaVuSans-50\"/>\n       <use x=\"63.623047\" xlink:href=\"#DejaVuSans-48\"/>\n       <use x=\"127.246094\" xlink:href=\"#DejaVuSans-49\"/>\n       <use x=\"190.869141\" xlink:href=\"#DejaVuSans-54\"/>\n      </g>\n     </g>\n    </g>\n    <g id=\"xtick_4\">\n     <g id=\"line2d_4\">\n      <g>\n       <use style=\"stroke:#000000;stroke-width:0.8;\" x=\"276.577836\" xlink:href=\"#m18a8e29308\" y=\"224.64\"/>\n      </g>\n     </g>\n     <g id=\"text_4\">\n      <!-- 2018 -->\n      <defs>\n       <path d=\"M 31.78125 34.625 \nQ 24.75 34.625 20.71875 30.859375 \nQ 16.703125 27.09375 16.703125 20.515625 \nQ 16.703125 13.921875 20.71875 10.15625 \nQ 24.75 6.390625 31.78125 6.390625 \nQ 38.8125 6.390625 42.859375 10.171875 \nQ 46.921875 13.96875 46.921875 20.515625 \nQ 46.921875 27.09375 42.890625 30.859375 \nQ 38.875 34.625 31.78125 34.625 \nz\nM 21.921875 38.8125 \nQ 15.578125 40.375 12.03125 44.71875 \nQ 8.5 49.078125 8.5 55.328125 \nQ 8.5 64.0625 14.71875 69.140625 \nQ 20.953125 74.21875 31.78125 74.21875 \nQ 42.671875 74.21875 48.875 69.140625 \nQ 55.078125 64.0625 55.078125 55.328125 \nQ 55.078125 49.078125 51.53125 44.71875 \nQ 48 40.375 41.703125 38.8125 \nQ 48.828125 37.15625 52.796875 32.3125 \nQ 56.78125 27.484375 56.78125 20.515625 \nQ 56.78125 9.90625 50.3125 4.234375 \nQ 43.84375 -1.421875 31.78125 -1.421875 \nQ 19.734375 -1.421875 13.25 4.234375 \nQ 6.78125 9.90625 6.78125 20.515625 \nQ 6.78125 27.484375 10.78125 32.3125 \nQ 14.796875 37.15625 21.921875 38.8125 \nz\nM 18.3125 54.390625 \nQ 18.3125 48.734375 21.84375 45.5625 \nQ 25.390625 42.390625 31.78125 42.390625 \nQ 38.140625 42.390625 41.71875 45.5625 \nQ 45.3125 48.734375 45.3125 54.390625 \nQ 45.3125 60.0625 41.71875 63.234375 \nQ 38.140625 66.40625 31.78125 66.40625 \nQ 25.390625 66.40625 21.84375 63.234375 \nQ 18.3125 60.0625 18.3125 54.390625 \nz\n\" id=\"DejaVuSans-56\"/>\n      </defs>\n      <g transform=\"translate(263.852836 239.238438)scale(0.1 -0.1)\">\n       <use xlink:href=\"#DejaVuSans-50\"/>\n       <use x=\"63.623047\" xlink:href=\"#DejaVuSans-48\"/>\n       <use x=\"127.246094\" xlink:href=\"#DejaVuSans-49\"/>\n       <use x=\"190.869141\" xlink:href=\"#DejaVuSans-56\"/>\n      </g>\n     </g>\n    </g>\n    <g id=\"xtick_5\">\n     <g id=\"line2d_5\">\n      <g>\n       <use style=\"stroke:#000000;stroke-width:0.8;\" x=\"334.288344\" xlink:href=\"#m18a8e29308\" y=\"224.64\"/>\n      </g>\n     </g>\n     <g id=\"text_5\">\n      <!-- 2020 -->\n      <g transform=\"translate(321.563344 239.238438)scale(0.1 -0.1)\">\n       <use xlink:href=\"#DejaVuSans-50\"/>\n       <use x=\"63.623047\" xlink:href=\"#DejaVuSans-48\"/>\n       <use x=\"127.246094\" xlink:href=\"#DejaVuSans-50\"/>\n       <use x=\"190.869141\" xlink:href=\"#DejaVuSans-48\"/>\n      </g>\n     </g>\n    </g>\n   </g>\n   <g id=\"matplotlib.axis_2\">\n    <g id=\"ytick_1\">\n     <g id=\"line2d_6\">\n      <defs>\n       <path d=\"M 0 0 \nL -3.5 0 \n\" id=\"m44e5b07f07\" style=\"stroke:#000000;stroke-width:0.8;\"/>\n      </defs>\n      <g>\n       <use style=\"stroke:#000000;stroke-width:0.8;\" x=\"46.0125\" xlink:href=\"#m44e5b07f07\" y=\"187.453788\"/>\n      </g>\n     </g>\n     <g id=\"text_6\">\n      <!-- 9000 -->\n      <defs>\n       <path d=\"M 10.984375 1.515625 \nL 10.984375 10.5 \nQ 14.703125 8.734375 18.5 7.8125 \nQ 22.3125 6.890625 25.984375 6.890625 \nQ 35.75 6.890625 40.890625 13.453125 \nQ 46.046875 20.015625 46.78125 33.40625 \nQ 43.953125 29.203125 39.59375 26.953125 \nQ 35.25 24.703125 29.984375 24.703125 \nQ 19.046875 24.703125 12.671875 31.3125 \nQ 6.296875 37.9375 6.296875 49.421875 \nQ 6.296875 60.640625 12.9375 67.421875 \nQ 19.578125 74.21875 30.609375 74.21875 \nQ 43.265625 74.21875 49.921875 64.515625 \nQ 56.59375 54.828125 56.59375 36.375 \nQ 56.59375 19.140625 48.40625 8.859375 \nQ 40.234375 -1.421875 26.421875 -1.421875 \nQ 22.703125 -1.421875 18.890625 -0.6875 \nQ 15.09375 0.046875 10.984375 1.515625 \nz\nM 30.609375 32.421875 \nQ 37.25 32.421875 41.125 36.953125 \nQ 45.015625 41.5 45.015625 49.421875 \nQ 45.015625 57.28125 41.125 61.84375 \nQ 37.25 66.40625 30.609375 66.40625 \nQ 23.96875 66.40625 20.09375 61.84375 \nQ 16.21875 57.28125 16.21875 49.421875 \nQ 16.21875 41.5 20.09375 36.953125 \nQ 23.96875 32.421875 30.609375 32.421875 \nz\n\" id=\"DejaVuSans-57\"/>\n      </defs>\n      <g transform=\"translate(13.5625 191.253007)scale(0.1 -0.1)\">\n       <use xlink:href=\"#DejaVuSans-57\"/>\n       <use x=\"63.623047\" xlink:href=\"#DejaVuSans-48\"/>\n       <use x=\"127.246094\" xlink:href=\"#DejaVuSans-48\"/>\n       <use x=\"190.869141\" xlink:href=\"#DejaVuSans-48\"/>\n      </g>\n     </g>\n    </g>\n    <g id=\"ytick_2\">\n     <g id=\"line2d_7\">\n      <g>\n       <use style=\"stroke:#000000;stroke-width:0.8;\" x=\"46.0125\" xlink:href=\"#m44e5b07f07\" y=\"147.896877\"/>\n      </g>\n     </g>\n     <g id=\"text_7\">\n      <!-- 10000 -->\n      <g transform=\"translate(7.2 151.696096)scale(0.1 -0.1)\">\n       <use xlink:href=\"#DejaVuSans-49\"/>\n       <use x=\"63.623047\" xlink:href=\"#DejaVuSans-48\"/>\n       <use x=\"127.246094\" xlink:href=\"#DejaVuSans-48\"/>\n       <use x=\"190.869141\" xlink:href=\"#DejaVuSans-48\"/>\n       <use x=\"254.492188\" xlink:href=\"#DejaVuSans-48\"/>\n      </g>\n     </g>\n    </g>\n    <g id=\"ytick_3\">\n     <g id=\"line2d_8\">\n      <g>\n       <use style=\"stroke:#000000;stroke-width:0.8;\" x=\"46.0125\" xlink:href=\"#m44e5b07f07\" y=\"108.339966\"/>\n      </g>\n     </g>\n     <g id=\"text_8\">\n      <!-- 11000 -->\n      <g transform=\"translate(7.2 112.139185)scale(0.1 -0.1)\">\n       <use xlink:href=\"#DejaVuSans-49\"/>\n       <use x=\"63.623047\" xlink:href=\"#DejaVuSans-49\"/>\n       <use x=\"127.246094\" xlink:href=\"#DejaVuSans-48\"/>\n       <use x=\"190.869141\" xlink:href=\"#DejaVuSans-48\"/>\n       <use x=\"254.492188\" xlink:href=\"#DejaVuSans-48\"/>\n      </g>\n     </g>\n    </g>\n    <g id=\"ytick_4\">\n     <g id=\"line2d_9\">\n      <g>\n       <use style=\"stroke:#000000;stroke-width:0.8;\" x=\"46.0125\" xlink:href=\"#m44e5b07f07\" y=\"68.783055\"/>\n      </g>\n     </g>\n     <g id=\"text_9\">\n      <!-- 12000 -->\n      <g transform=\"translate(7.2 72.582274)scale(0.1 -0.1)\">\n       <use xlink:href=\"#DejaVuSans-49\"/>\n       <use x=\"63.623047\" xlink:href=\"#DejaVuSans-50\"/>\n       <use x=\"127.246094\" xlink:href=\"#DejaVuSans-48\"/>\n       <use x=\"190.869141\" xlink:href=\"#DejaVuSans-48\"/>\n       <use x=\"254.492188\" xlink:href=\"#DejaVuSans-48\"/>\n      </g>\n     </g>\n    </g>\n    <g id=\"ytick_5\">\n     <g id=\"line2d_10\">\n      <g>\n       <use style=\"stroke:#000000;stroke-width:0.8;\" x=\"46.0125\" xlink:href=\"#m44e5b07f07\" y=\"29.226144\"/>\n      </g>\n     </g>\n     <g id=\"text_10\">\n      <!-- 13000 -->\n      <defs>\n       <path d=\"M 40.578125 39.3125 \nQ 47.65625 37.796875 51.625 33 \nQ 55.609375 28.21875 55.609375 21.1875 \nQ 55.609375 10.40625 48.1875 4.484375 \nQ 40.765625 -1.421875 27.09375 -1.421875 \nQ 22.515625 -1.421875 17.65625 -0.515625 \nQ 12.796875 0.390625 7.625 2.203125 \nL 7.625 11.71875 \nQ 11.71875 9.328125 16.59375 8.109375 \nQ 21.484375 6.890625 26.8125 6.890625 \nQ 36.078125 6.890625 40.9375 10.546875 \nQ 45.796875 14.203125 45.796875 21.1875 \nQ 45.796875 27.640625 41.28125 31.265625 \nQ 36.765625 34.90625 28.71875 34.90625 \nL 20.21875 34.90625 \nL 20.21875 43.015625 \nL 29.109375 43.015625 \nQ 36.375 43.015625 40.234375 45.921875 \nQ 44.09375 48.828125 44.09375 54.296875 \nQ 44.09375 59.90625 40.109375 62.90625 \nQ 36.140625 65.921875 28.71875 65.921875 \nQ 24.65625 65.921875 20.015625 65.03125 \nQ 15.375 64.15625 9.8125 62.3125 \nL 9.8125 71.09375 \nQ 15.4375 72.65625 20.34375 73.4375 \nQ 25.25 74.21875 29.59375 74.21875 \nQ 40.828125 74.21875 47.359375 69.109375 \nQ 53.90625 64.015625 53.90625 55.328125 \nQ 53.90625 49.265625 50.4375 45.09375 \nQ 46.96875 40.921875 40.578125 39.3125 \nz\n\" id=\"DejaVuSans-51\"/>\n      </defs>\n      <g transform=\"translate(7.2 33.025363)scale(0.1 -0.1)\">\n       <use xlink:href=\"#DejaVuSans-49\"/>\n       <use x=\"63.623047\" xlink:href=\"#DejaVuSans-51\"/>\n       <use x=\"127.246094\" xlink:href=\"#DejaVuSans-48\"/>\n       <use x=\"190.869141\" xlink:href=\"#DejaVuSans-48\"/>\n       <use x=\"254.492188\" xlink:href=\"#DejaVuSans-48\"/>\n      </g>\n     </g>\n    </g>\n   </g>\n   <g id=\"line2d_11\">\n    <path clip-path=\"url(#pb2b65384eb)\" d=\"M 61.230682 192.493734 \nL 61.388793 178.483863 \nL 61.467848 178.285683 \nL 61.546904 182.070884 \nL 61.625959 178.828799 \nL 61.705015 163.099389 \nL 61.78407 192.314541 \nL 61.863126 185.189551 \nL 61.942181 176.248502 \nL 62.021237 178.776584 \nL 62.258403 169.301517 \nL 62.337459 195.183209 \nL 62.416514 179.576029 \nL 62.49557 181.723178 \nL 62.574625 179.172549 \nL 62.653681 187.247697 \nL 62.732736 186.173331 \nL 62.811792 175.297158 \nL 62.890847 205.691897 \nL 63.048958 183.338287 \nL 63.128014 188.993739 \nL 63.207069 187.445481 \nL 63.286125 186.210119 \nL 63.36518 166.341474 \nL 63.444236 196.447447 \nL 63.523291 182.387735 \nL 63.602347 184.67452 \nL 63.681402 186.050705 \nL 63.918568 169.039651 \nL 63.997624 199.143646 \nL 64.155735 179.671361 \nL 64.313846 174.645656 \nL 64.392901 182.423336 \nL 64.471957 162.83238 \nL 64.551012 193.62704 \nL 64.709123 174.016305 \nL 64.788179 176.408707 \nL 64.867234 182.25957 \nL 65.025345 163.858882 \nL 65.104401 191.369527 \nL 65.183456 190.13456 \nL 65.262512 199.312554 \nL 65.341567 172.507209 \nL 65.420623 173.10887 \nL 65.499678 180.36875 \nL 65.578734 161.857302 \nL 65.657789 187.36439 \nL 65.736845 174.803092 \nL 65.8159 178.380619 \nL 65.894956 172.105311 \nL 65.974011 172.957763 \nL 66.053067 172.058238 \nL 66.132122 154.011189 \nL 66.211178 185.860436 \nL 66.290233 176.881017 \nL 66.369289 178.646442 \nL 66.5274 170.118763 \nL 66.606455 175.247712 \nL 66.685511 154.941963 \nL 66.764566 187.031716 \nL 66.922677 162.513947 \nL 67.080788 157.798763 \nL 67.159844 158.190377 \nL 67.238899 147.5377 \nL 67.317955 191.898798 \nL 67.476066 160.957382 \nL 67.713232 152.286508 \nL 67.792287 137.238663 \nL 67.871343 174.941542 \nL 67.950398 172.284108 \nL 68.029454 177.009577 \nL 68.108509 156.239825 \nL 68.187565 157.525029 \nL 68.26662 164.089499 \nL 68.345676 145.638178 \nL 68.424731 176.069309 \nL 68.582842 146.694347 \nL 68.820009 162.072887 \nL 68.899064 152.520685 \nL 68.97812 182.24533 \nL 69.136231 151.626303 \nL 69.294342 161.231907 \nL 69.452453 153.270288 \nL 69.531508 187.386146 \nL 69.610564 179.603324 \nL 69.689619 182.270646 \nL 69.768675 154.502881 \nL 69.84773 157.15715 \nL 69.926786 158.180092 \nL 70.005841 152.463327 \nL 70.084897 185.087494 \nL 70.322063 150.964516 \nL 70.480174 155.191172 \nL 70.55923 158.42218 \nL 70.638285 199.844595 \nL 70.717341 188.066129 \nL 70.875452 154.099401 \nL 71.033563 148.093871 \nL 71.112618 149.068553 \nL 71.191674 178.628246 \nL 71.349785 153.208184 \nL 71.42884 147.949488 \nL 71.507896 152.27108 \nL 71.666006 147.394109 \nL 71.745062 180.418196 \nL 71.824117 161.055088 \nL 71.903173 161.725973 \nL 71.982228 158.822496 \nL 72.061284 160.117194 \nL 72.140339 159.071705 \nL 72.219395 145.627893 \nL 72.29845 171.585929 \nL 72.456561 148.4305 \nL 72.535617 174.542808 \nL 72.614672 164.407932 \nL 72.693728 169.095426 \nL 72.772783 155.168624 \nL 72.851839 188.602125 \nL 72.930894 172.736639 \nL 73.00995 174.221606 \nL 73.089005 176.646049 \nL 73.168061 172.534108 \nL 73.247116 176.968438 \nL 73.326172 161.092272 \nL 73.405227 191.574432 \nL 73.642394 170.83949 \nL 73.721449 170.669 \nL 73.87956 202.561364 \nL 74.037671 179.607675 \nL 74.195782 173.867967 \nL 74.432949 211.20178 \nL 74.59106 180.155143 \nL 74.670115 184.977526 \nL 74.749171 183.132987 \nL 74.828226 182.214475 \nL 74.907282 186.24572 \nL 74.986337 162.133409 \nL 75.065393 189.748089 \nL 75.144448 181.896833 \nL 75.223504 178.8466 \nL 75.302559 181.93995 \nL 75.381615 180.235839 \nL 75.539726 160.538475 \nL 75.618781 192.022216 \nL 75.697836 164.829213 \nL 75.776892 168.545189 \nL 76.014058 189.483849 \nL 76.093114 174.606495 \nL 76.172169 195.193493 \nL 76.251225 187.585513 \nL 76.33028 172.485453 \nL 76.409336 176.223581 \nL 76.488391 174.458156 \nL 76.567447 184.70577 \nL 76.646502 158.628667 \nL 76.725558 182.398415 \nL 76.804613 173.854518 \nL 77.04178 160.490215 \nL 77.120835 186.710909 \nL 77.199891 175.147238 \nL 77.278946 195.004016 \nL 77.437057 174.927301 \nL 77.516113 175.472 \nL 77.595168 168.820901 \nL 77.674224 174.50958 \nL 77.753279 170.267893 \nL 77.832335 200.349737 \nL 77.990446 174.791225 \nL 78.069501 172.936402 \nL 78.148557 176.043202 \nL 78.227612 174.339485 \nL 78.306668 166.703815 \nL 78.385723 194.153542 \nL 78.62289 164.426919 \nL 78.701945 161.955403 \nL 78.781001 165.853341 \nL 78.860056 161.826052 \nL 78.939112 191.861219 \nL 79.176278 165.782534 \nL 79.255334 162.280166 \nL 79.413445 176.789245 \nL 79.571555 208.918159 \nL 79.729666 179.39209 \nL 79.808722 163.055481 \nL 79.887777 165.614022 \nL 79.966833 156.601771 \nL 80.045888 186.066527 \nL 80.124944 157.761975 \nL 80.203999 158.975581 \nL 80.283055 156.505252 \nL 80.36211 150.444342 \nL 80.441166 157.407941 \nL 80.520221 154.292043 \nL 80.599277 177.509972 \nL 80.757388 154.715698 \nL 80.836443 155.44038 \nL 80.915499 164.404767 \nL 80.994554 162.715687 \nL 81.07361 146.937622 \nL 81.152665 180.86954 \nL 81.231721 167.355317 \nL 81.468887 146.365234 \nL 81.626998 149.129471 \nL 81.706054 171.056657 \nL 81.864165 145.947117 \nL 81.94322 144.767926 \nL 82.022276 144.974017 \nL 82.259442 188.690337 \nL 82.338498 171.714884 \nL 82.417553 174.103726 \nL 82.65472 165.248121 \nL 82.733775 145.816184 \nL 82.812831 177.297156 \nL 82.891886 168.284114 \nL 82.970942 165.944718 \nL 83.129053 184.132194 \nL 83.208108 214.756364 \nL 83.287164 176.408312 \nL 83.366219 186.198647 \nL 83.52433 163.049152 \nL 83.682441 156.089113 \nL 83.761496 166.039259 \nL 83.840552 152.765542 \nL 83.919607 190.517866 \nL 84.077718 161.216085 \nL 84.156774 166.119164 \nL 84.235829 165.607693 \nL 84.314885 163.941951 \nL 84.39394 150.127096 \nL 84.472996 188.15355 \nL 84.631107 165.490604 \nL 84.710162 164.072885 \nL 84.789218 174.131812 \nL 84.868273 153.961347 \nL 84.947329 162.917823 \nL 85.026384 192.865965 \nL 85.184495 155.326852 \nL 85.342606 171.233477 \nL 85.421662 174.129834 \nL 85.500717 158.063794 \nL 85.579773 189.874276 \nL 85.658828 175.246525 \nL 85.737884 179.332754 \nL 85.895995 169.03253 \nL 85.97505 172.529361 \nL 86.054106 153.680889 \nL 86.133161 186.748884 \nL 86.212217 169.161881 \nL 86.291272 170.665835 \nL 86.449383 168.275411 \nL 86.528439 170.89131 \nL 86.607494 155.711741 \nL 86.68655 182.796357 \nL 86.765605 177.569307 \nL 86.844661 176.840669 \nL 86.923716 174.115198 \nL 87.002772 176.340274 \nL 87.160883 151.903992 \nL 87.239938 186.849754 \nL 87.318994 176.131018 \nL 87.398049 170.897243 \nL 87.477104 172.297162 \nL 87.55616 173.867967 \nL 87.635215 172.414251 \nL 87.714271 152.998136 \nL 87.793326 182.304269 \nL 87.872382 172.08395 \nL 87.951437 172.945104 \nL 88.030493 176.682837 \nL 88.109548 185.70023 \nL 88.188604 210.214835 \nL 88.267659 171.692733 \nL 88.346715 187.043583 \nL 88.504826 171.135376 \nL 88.583881 177.049529 \nL 88.662937 176.506809 \nL 88.741992 174.824849 \nL 88.821048 159.333967 \nL 88.900103 188.676492 \nL 88.979159 177.022631 \nL 89.058214 176.415828 \nL 89.13727 178.564955 \nL 89.216325 170.682053 \nL 89.295381 177.357678 \nL 89.374436 159.151214 \nL 89.453492 196.699029 \nL 89.532547 182.31851 \nL 89.611603 184.252447 \nL 89.690658 183.525787 \nL 89.848769 182.08196 \nL 89.927825 157.089112 \nL 90.00688 189.766285 \nL 90.085936 182.287656 \nL 90.164991 180.926898 \nL 90.244047 176.006018 \nL 90.323102 178.400002 \nL 90.402158 174.963298 \nL 90.481213 157.442751 \nL 90.560269 186.502444 \nL 90.639324 177.764323 \nL 90.71838 177.284497 \nL 90.797435 179.454985 \nL 90.876491 175.785686 \nL 90.955546 178.021443 \nL 91.034602 148.379867 \nL 91.113657 183.698651 \nL 91.192713 175.970021 \nL 91.429879 162.34583 \nL 91.508934 171.278176 \nL 91.58799 150.328045 \nL 91.667045 182.179665 \nL 91.746101 178.492566 \nL 91.904212 163.725575 \nL 92.062323 175.049532 \nL 92.141378 155.924161 \nL 92.220434 185.907508 \nL 92.299489 181.343432 \nL 92.4576 169.949855 \nL 92.536656 170.265915 \nL 92.615711 172.102938 \nL 92.694767 151.12749 \nL 92.773822 179.322074 \nL 92.852878 173.896052 \nL 92.931933 173.947872 \nL 93.010989 173.30705 \nL 93.248155 154.220841 \nL 93.327211 180.558227 \nL 93.406266 173.740989 \nL 93.564377 160.367589 \nL 93.643433 161.684043 \nL 93.722488 169.438384 \nL 93.801544 147.249331 \nL 93.880599 180.371519 \nL 93.959655 172.062194 \nL 94.03871 167.758007 \nL 94.117766 177.408706 \nL 94.354932 140.597045 \nL 94.433988 173.905151 \nL 94.592099 158.968857 \nL 94.671154 158.059048 \nL 94.829265 166.454211 \nL 94.908321 153.701063 \nL 94.987376 186.126654 \nL 95.066432 175.515908 \nL 95.224543 167.229131 \nL 95.461709 144.845853 \nL 95.540764 176.164246 \nL 95.61982 164.197885 \nL 95.777931 152.846238 \nL 95.856986 155.092279 \nL 95.936042 154.917833 \nL 96.015097 145.633826 \nL 96.094153 173.576828 \nL 96.173208 155.680095 \nL 96.252264 160.116403 \nL 96.331319 160.132621 \nL 96.48943 150.000118 \nL 96.568486 145.060647 \nL 96.647541 171.704204 \nL 96.805652 144.46848 \nL 96.884708 167.305476 \nL 97.121874 138.296415 \nL 97.20093 173.523426 \nL 97.359041 147.922194 \nL 97.517152 168.976359 \nL 97.596207 175.006019 \nL 97.675263 155.237453 \nL 97.754318 188.297933 \nL 97.991485 147.45384 \nL 98.07054 147.01278 \nL 98.149596 156.758416 \nL 98.228651 141.241031 \nL 98.307707 176.26828 \nL 98.386762 141.312234 \nL 98.544873 180.436788 \nL 98.623929 164.034119 \nL 98.702984 164.9107 \nL 98.78204 158.703825 \nL 98.861095 185.092241 \nL 99.019206 153.881442 \nL 99.098262 164.187995 \nL 99.177317 161.116006 \nL 99.256372 159.539267 \nL 99.335428 150.824089 \nL 99.414483 183.293192 \nL 99.493539 175.164247 \nL 99.572594 170.117972 \nL 99.730705 141.656775 \nL 99.809761 139.951872 \nL 99.888816 145.404792 \nL 99.967872 178.157914 \nL 100.125983 138.280197 \nL 100.205038 139.777426 \nL 100.284094 135.758444 \nL 100.363149 140.908358 \nL 100.442205 138.910338 \nL 100.52126 167.69788 \nL 100.679371 140.540478 \nL 100.758427 138.885813 \nL 100.837482 139.295622 \nL 100.916538 138.402032 \nL 100.995593 143.6275 \nL 101.074649 190.112013 \nL 101.23276 146.349806 \nL 101.311815 144.139366 \nL 101.390871 169.070505 \nL 101.548982 134.561056 \nL 101.628037 168.551123 \nL 101.707093 148.202652 \nL 101.786148 160.721623 \nL 101.865204 159.581989 \nL 102.10237 148.59743 \nL 102.181426 173.564566 \nL 102.339537 144.271486 \nL 102.576703 165.251681 \nL 102.655759 153.540857 \nL 102.734814 195.291594 \nL 102.892925 161.679296 \nL 102.971981 155.076457 \nL 103.051036 155.545997 \nL 103.130091 162.66545 \nL 103.209147 160.267906 \nL 103.288202 194.672924 \nL 103.446313 155.392516 \nL 103.604424 149.545214 \nL 103.68348 154.00486 \nL 103.762535 142.146093 \nL 103.841591 169.870741 \nL 103.999702 144.747356 \nL 104.078757 144.848226 \nL 104.157813 142.337153 \nL 104.236868 135.88107 \nL 104.315924 141.634227 \nL 104.394979 170.677307 \nL 104.55309 134.976799 \nL 104.790257 155.239035 \nL 104.869312 152.220843 \nL 104.948368 181.888131 \nL 105.106479 154.234685 \nL 105.26459 150.358108 \nL 105.343645 150.552728 \nL 105.422701 142.059464 \nL 105.501756 173.369154 \nL 105.659867 140.684466 \nL 105.738923 141.318958 \nL 105.817978 146.061437 \nL 105.897034 144.149651 \nL 105.976089 147.51634 \nL 106.055145 169.83158 \nL 106.213256 129.917866 \nL 106.292311 131.305126 \nL 106.371367 124.091528 \nL 106.529478 141.600999 \nL 106.608533 172.117178 \nL 106.687589 139.938027 \nL 106.766644 140.657963 \nL 106.8457 143.56144 \nL 107.003811 170.605313 \nL 107.082866 167.140919 \nL 107.240977 212.103677 \nL 107.557199 148.425358 \nL 107.636254 145.794427 \nL 107.71531 172.263934 \nL 107.873421 139.460179 \nL 108.110587 136.044044 \nL 108.189643 138.052744 \nL 108.268698 166.690761 \nL 108.347754 129.012408 \nL 108.426809 132.835583 \nL 108.663976 137.07648 \nL 108.743031 134.060661 \nL 108.822087 162.011574 \nL 108.980198 132.689223 \nL 109.059253 137.735102 \nL 109.138309 126.273883 \nL 109.217364 128.366839 \nL 109.29642 130.843497 \nL 109.375475 156.750505 \nL 109.454531 154.763957 \nL 109.612642 132.616834 \nL 109.691697 133.693177 \nL 109.849808 128.415099 \nL 109.928864 162.952633 \nL 110.007919 137.299581 \nL 110.086975 143.374336 \nL 110.245086 133.665487 \nL 110.324141 131.466914 \nL 110.403197 125.439232 \nL 110.482252 157.043622 \nL 110.640363 128.48195 \nL 110.719419 138.066985 \nL 110.87753 191.974352 \nL 110.956585 152.431681 \nL 111.03564 170.935218 \nL 111.193751 135.677352 \nL 111.509973 126.580053 \nL 111.589029 154.899242 \nL 111.74714 126.971271 \nL 111.826195 125.542476 \nL 111.905251 127.629103 \nL 112.142417 152.345843 \nL 112.221473 121.010045 \nL 112.300528 121.833224 \nL 112.458639 122.562654 \nL 112.537695 126.940417 \nL 112.61675 124.188047 \nL 112.695806 153.990619 \nL 112.774861 147.701862 \nL 112.853917 169.590283 \nL 112.932972 127.193186 \nL 113.012028 135.31778 \nL 113.091083 146.085962 \nL 113.170139 138.041273 \nL 113.249194 160.987446 \nL 113.407305 138.09507 \nL 113.486361 134.615249 \nL 113.565416 141.566585 \nL 113.723527 128.70782 \nL 113.802583 161.742983 \nL 113.960694 131.472057 \nL 114.039749 123.177764 \nL 114.19786 144.282562 \nL 114.276916 139.433676 \nL 114.355971 171.943919 \nL 114.435027 149.338727 \nL 114.514082 149.583979 \nL 114.593138 153.453832 \nL 114.672193 148.436038 \nL 114.751249 154.791251 \nL 114.830304 139.303138 \nL 114.90936 170.71093 \nL 115.06747 149.59822 \nL 115.146526 149.218474 \nL 115.225581 147.180502 \nL 115.304637 152.03809 \nL 115.383692 148.799566 \nL 115.462748 174.195103 \nL 115.620859 147.605343 \nL 115.699914 148.26001 \nL 115.77897 163.295196 \nL 115.858025 161.94591 \nL 115.937081 143.581614 \nL 116.016136 174.285688 \nL 116.095192 152.422583 \nL 116.174247 152.911111 \nL 116.253303 153.360478 \nL 116.332358 156.028591 \nL 116.490469 138.392143 \nL 116.569525 165.238627 \nL 116.806691 136.583601 \nL 116.964802 154.841488 \nL 117.043858 144.365632 \nL 117.122913 179.89288 \nL 117.201969 170.087118 \nL 117.281024 170.003652 \nL 117.36008 162.497333 \nL 117.439135 162.918614 \nL 117.518191 166.913467 \nL 117.597246 146.422196 \nL 117.755357 176.437188 \nL 117.834413 166.611647 \nL 117.913468 171.199458 \nL 118.150635 136.887793 \nL 118.22969 166.23823 \nL 118.308746 165.837519 \nL 118.387801 168.668211 \nL 118.704023 145.653209 \nL 118.783079 176.947077 \nL 118.862134 168.595426 \nL 119.0993 154.612454 \nL 119.178356 157.669412 \nL 119.257411 141.621173 \nL 119.336467 170.303494 \nL 119.415522 161.83515 \nL 119.573633 158.435629 \nL 119.731744 160.454219 \nL 119.8108 144.341502 \nL 119.889855 177.229118 \nL 119.968911 165.415842 \nL 120.047966 166.120351 \nL 120.127022 168.596613 \nL 120.285133 163.802316 \nL 120.364188 150.249327 \nL 120.443244 171.115597 \nL 120.601355 150.723614 \nL 120.838521 158.420598 \nL 120.917577 142.753688 \nL 120.996632 173.487034 \nL 121.075688 163.170592 \nL 121.312854 157.562608 \nL 121.39191 165.016317 \nL 121.470965 142.880665 \nL 121.550021 175.851351 \nL 121.629076 165.128659 \nL 121.787187 156.588322 \nL 121.945298 165.212915 \nL 122.024354 159.573682 \nL 122.103409 175.455781 \nL 122.340576 142.855349 \nL 122.419631 140.383833 \nL 122.498687 148.813015 \nL 122.577742 137.91746 \nL 122.656798 167.339495 \nL 122.814909 148.199488 \nL 123.052075 169.219634 \nL 123.13113 147.704235 \nL 123.210186 167.10334 \nL 123.368297 140.766744 \nL 123.526408 133.76438 \nL 123.605463 136.162715 \nL 123.684519 129.121585 \nL 123.763574 163.59662 \nL 123.921685 135.201482 \nL 124.079796 126.368028 \nL 124.158852 128.012014 \nL 124.237907 133.075694 \nL 124.316963 158.729142 \nL 124.554129 120.106961 \nL 124.633185 125.057508 \nL 124.870351 172.288064 \nL 124.949407 141.00369 \nL 125.028462 142.646488 \nL 125.107518 144.716897 \nL 125.186573 139.839134 \nL 125.265629 148.035722 \nL 125.344684 144.013575 \nL 125.42374 195.254411 \nL 125.581851 148.181687 \nL 125.739962 134.771499 \nL 125.819017 152.205416 \nL 125.898073 135.898871 \nL 125.977128 170.197086 \nL 126.056184 156.653591 \nL 126.214295 129.544053 \nL 126.372406 137.06936 \nL 126.451461 129.5488 \nL 126.530517 155.617991 \nL 126.688628 111.972082 \nL 126.767683 114.176984 \nL 127.004849 141.24736 \nL 127.083905 169.749302 \nL 127.242016 120.389397 \nL 127.321071 112.003332 \nL 127.637293 167.494162 \nL 127.795404 127.207031 \nL 127.953515 138.426557 \nL 128.111626 148.898458 \nL 128.190682 160.913474 \nL 128.348793 119.309889 \nL 128.427848 116.461 \nL 128.506904 148.087542 \nL 128.585959 138.892933 \nL 128.665015 127.108534 \nL 128.74407 157.03571 \nL 128.902181 114.90048 \nL 128.981237 121.375551 \nL 129.060292 119.550395 \nL 129.139348 117.386236 \nL 129.218403 123.1299 \nL 129.297459 147.497748 \nL 129.376514 118.570966 \nL 129.45557 125.859722 \nL 129.613681 118.121204 \nL 129.771792 131.440016 \nL 129.850847 155.32883 \nL 130.008958 118.210602 \nL 130.088014 118.750159 \nL 130.167069 112.926986 \nL 130.246125 113.525877 \nL 130.32518 115.650875 \nL 130.404236 148.766338 \nL 130.562347 109.039728 \nL 130.641402 105.491869 \nL 130.878568 118.36883 \nL 130.957624 152.650036 \nL 131.115735 106.955079 \nL 131.352901 122.141373 \nL 131.431957 119.615664 \nL 131.590068 168.856106 \nL 131.669123 166.376679 \nL 131.827234 123.59232 \nL 131.90629 127.829656 \nL 131.985345 126.690022 \nL 132.222512 181.802688 \nL 132.380623 129.540097 \nL 132.459678 133.692386 \nL 132.538734 122.824916 \nL 132.617789 149.846637 \nL 132.7759 113.494232 \nL 132.934011 108.17897 \nL 133.013067 110.261245 \nL 133.171178 153.729939 \nL 133.250233 123.863285 \nL 133.329289 125.050783 \nL 133.408344 115.205859 \nL 133.4874 125.30909 \nL 133.566455 117.942011 \nL 133.724566 153.19157 \nL 133.803622 120.91313 \nL 133.882677 129.007661 \nL 134.119844 116.616854 \nL 134.277955 149.822112 \nL 134.35701 108.152467 \nL 134.436066 108.657608 \nL 134.515121 105.194005 \nL 134.594177 105.317818 \nL 134.673232 111.182526 \nL 134.831343 147.306293 \nL 134.989454 97.215376 \nL 135.305676 133.664301 \nL 135.463787 173.700641 \nL 135.621898 136.528617 \nL 135.700953 103.392583 \nL 135.780009 112.01243 \nL 135.859064 116.450715 \nL 135.93812 144.459777 \nL 136.017175 120.689634 \nL 136.096231 121.161152 \nL 136.333397 103.955083 \nL 136.412453 116.178168 \nL 136.491508 147.814599 \nL 136.649619 100.994248 \nL 136.728675 86.892209 \nL 137.044897 140.010811 \nL 137.203008 98.275106 \nL 137.361119 93.692438 \nL 137.51923 106.336804 \nL 137.598285 126.204263 \nL 137.756396 83.546881 \nL 137.835452 77.997442 \nL 138.072618 114.680544 \nL 138.151674 135.130675 \nL 138.230729 97.562686 \nL 138.309785 118.723655 \nL 138.38884 114.498977 \nL 138.467896 104.88467 \nL 138.546951 106.690048 \nL 138.626006 113.411162 \nL 138.705062 134.648872 \nL 138.863173 97.89536 \nL 138.942228 100.527872 \nL 139.100339 146.041263 \nL 139.179395 128.835589 \nL 139.25845 143.74894 \nL 139.416561 99.454693 \nL 139.495617 93.734764 \nL 139.574672 96.7312 \nL 139.653728 92.537376 \nL 139.732783 97.038557 \nL 139.811839 122.0943 \nL 139.890894 94.452722 \nL 139.96995 94.683734 \nL 140.049005 87.483189 \nL 140.128061 102.866477 \nL 140.286172 90.523138 \nL 140.365227 113.398504 \nL 140.444283 84.004555 \nL 140.523338 84.970139 \nL 140.602394 88.19917 \nL 140.760505 115.406808 \nL 140.83956 113.803567 \nL 140.918616 145.986674 \nL 140.997671 136.460183 \nL 141.076727 132.348638 \nL 141.234838 144.411122 \nL 141.313893 138.114849 \nL 141.392949 122.545249 \nL 141.472004 144.115632 \nL 141.55106 137.703457 \nL 141.630115 129.951885 \nL 141.709171 157.252482 \nL 141.946337 109.619632 \nL 142.025393 159.15517 \nL 142.183504 106.834826 \nL 142.262559 98.603033 \nL 142.578781 150.667839 \nL 142.736892 125.468109 \nL 142.815947 132.303147 \nL 142.895003 126.921825 \nL 142.974058 136.907176 \nL 143.053114 131.876724 \nL 143.132169 146.160329 \nL 143.369336 119.558306 \nL 143.527447 116.248975 \nL 143.606502 119.771914 \nL 143.685558 151.610876 \nL 143.922724 120.689634 \nL 144.00178 131.403228 \nL 144.080835 129.312645 \nL 144.159891 119.171044 \nL 144.238946 136.015959 \nL 144.318002 121.959015 \nL 144.397057 122.630296 \nL 144.476113 120.751343 \nL 144.634224 129.695556 \nL 144.713279 123.47444 \nL 144.792335 150.106526 \nL 144.950446 135.416672 \nL 145.029501 131.006472 \nL 145.108557 139.421018 \nL 145.187612 135.305121 \nL 145.266668 123.101419 \nL 145.345723 151.526224 \nL 145.503834 125.309881 \nL 145.58289 146.2343 \nL 145.661945 144.398464 \nL 145.741001 121.381484 \nL 145.820056 129.993419 \nL 145.978167 177.375478 \nL 146.136278 144.359303 \nL 146.294389 133.927354 \nL 146.373445 131.858923 \nL 146.4525 151.244183 \nL 146.531555 144.477182 \nL 146.610611 154.325271 \nL 146.768722 148.587541 \nL 146.847777 148.731924 \nL 146.926833 120.591137 \nL 147.005888 156.896866 \nL 147.084944 140.263185 \nL 147.163999 143.315 \nL 147.243055 143.818955 \nL 147.32211 150.284928 \nL 147.401166 144.947118 \nL 147.480221 124.693584 \nL 147.559277 158.676135 \nL 147.638332 145.445931 \nL 147.717388 140.823706 \nL 147.796443 143.169431 \nL 147.954554 136.713743 \nL 148.03361 115.690431 \nL 148.112665 142.775444 \nL 148.191721 127.664704 \nL 148.270776 132.049588 \nL 148.428887 127.31423 \nL 148.507943 141.8688 \nL 148.586998 126.687253 \nL 148.666054 152.587931 \nL 148.824165 132.844681 \nL 148.90322 126.84904 \nL 149.061331 137.688821 \nL 149.140387 126.69912 \nL 149.219442 143.969272 \nL 149.298498 131.657183 \nL 149.377553 143.983908 \nL 149.535664 130.693577 \nL 149.61472 135.444757 \nL 149.693775 116.191222 \nL 149.772831 146.02188 \nL 149.930942 121.138605 \nL 150.089053 131.380285 \nL 150.168108 129.440809 \nL 150.247164 118.883465 \nL 150.326219 154.811821 \nL 150.48433 137.000531 \nL 150.563385 142.333593 \nL 150.800552 115.923817 \nL 150.879607 148.776623 \nL 151.116774 109.953097 \nL 151.274885 143.606535 \nL 151.35394 133.807101 \nL 151.432996 156.326059 \nL 151.670162 117.009654 \nL 151.986384 153.460161 \nL 152.06544 136.828458 \nL 152.144495 138.577665 \nL 152.223551 140.068169 \nL 152.460717 113.999769 \nL 152.539773 136.306307 \nL 152.776939 100.019566 \nL 152.855995 119.172626 \nL 153.014106 104.462202 \nL 153.093161 137.003695 \nL 153.251272 95.800821 \nL 153.330328 93.154859 \nL 153.409383 95.131518 \nL 153.64655 139.377505 \nL 153.883716 102.193613 \nL 153.962772 99.47724 \nL 154.041827 100.879928 \nL 154.120883 95.138638 \nL 154.199938 124.808695 \nL 154.278994 103.695985 \nL 154.358049 107.985536 \nL 154.437104 113.98276 \nL 154.51616 110.086008 \nL 154.753326 143.065396 \nL 154.911437 106.794873 \nL 154.990493 106.853418 \nL 155.069548 109.179364 \nL 155.227659 101.913946 \nL 155.306715 126.097855 \nL 155.38577 117.273895 \nL 155.543881 88.141021 \nL 155.622937 103.050812 \nL 155.701992 101.059912 \nL 155.781048 104.664338 \nL 155.860103 130.764779 \nL 156.09727 93.995444 \nL 156.255381 109.748983 \nL 156.413492 144.732324 \nL 156.729714 105.265999 \nL 156.808769 100.400103 \nL 156.887825 102.522331 \nL 156.96688 132.998558 \nL 157.124991 92.341569 \nL 157.204047 87.766417 \nL 157.283102 99.338791 \nL 157.362158 138.245782 \nL 157.441213 126.509247 \nL 157.520269 140.41627 \nL 157.599324 102.843929 \nL 157.67838 109.450724 \nL 157.915546 101.658013 \nL 157.994602 103.127948 \nL 158.073657 131.769525 \nL 158.231768 93.781441 \nL 158.389879 114.707442 \nL 158.54799 102.252158 \nL 158.627045 129.162724 \nL 158.785156 86.268001 \nL 158.864212 76.332096 \nL 159.101378 94.091567 \nL 159.180434 128.222061 \nL 159.338545 89.4017 \nL 159.4176 79.093564 \nL 159.575711 96.692434 \nL 159.654767 96.259286 \nL 159.733822 131.028624 \nL 159.812878 107.072958 \nL 159.891933 111.804756 \nL 160.1291 130.018736 \nL 160.208155 112.352224 \nL 160.287211 149.979153 \nL 160.366266 125.144533 \nL 160.524377 161.146465 \nL 160.682488 113.122001 \nL 160.761544 102.574547 \nL 160.99871 139.278613 \nL 161.077766 155.432073 \nL 161.235877 111.10539 \nL 161.314932 98.79607 \nL 161.393988 125.0314 \nL 161.552099 107.542103 \nL 161.631154 104.824939 \nL 161.789265 106.835617 \nL 161.868321 114.134263 \nL 161.947376 134.103778 \nL 162.105487 99.889028 \nL 162.184543 98.229615 \nL 162.342653 79.387472 \nL 162.421709 91.908025 \nL 162.500764 124.250547 \nL 162.658875 90.753359 \nL 162.737931 92.250984 \nL 162.896042 86.542131 \nL 163.054153 120.246201 \nL 163.212264 96.301216 \nL 163.291319 92.211823 \nL 163.44943 95.372815 \nL 163.607541 128.340732 \nL 163.686597 100.21735 \nL 163.765652 101.341953 \nL 163.844708 100.910387 \nL 163.923763 93.88864 \nL 164.081874 108.651279 \nL 164.16093 138.981936 \nL 164.319041 89.061115 \nL 164.398096 92.152487 \nL 164.477152 81.395776 \nL 164.556207 87.355421 \nL 164.714318 126.133456 \nL 164.872429 86.689678 \nL 165.109596 103.477235 \nL 165.188651 97.52392 \nL 165.267707 120.956247 \nL 165.425818 83.166739 \nL 165.504873 87.156845 \nL 165.583929 86.63232 \nL 165.979206 142.038894 \nL 166.295428 89.558345 \nL 166.374483 117.831647 \nL 166.453539 87.818632 \nL 166.532594 89.911588 \nL 166.61165 92.543309 \nL 166.690705 103.855795 \nL 166.769761 102.754135 \nL 166.848816 100.60303 \nL 166.927872 125.318188 \nL 167.085983 100.486337 \nL 167.165038 107.062674 \nL 167.323149 80.656458 \nL 167.402205 88.521558 \nL 167.48126 109.196373 \nL 167.560316 84.986753 \nL 167.639371 90.158028 \nL 167.718427 79.200368 \nL 167.955593 94.894177 \nL 168.034649 126.665101 \nL 168.19276 91.962218 \nL 168.271815 92.419101 \nL 168.350871 86.883111 \nL 168.429926 88.523141 \nL 168.508982 84.32457 \nL 168.588037 117.01361 \nL 168.746148 93.240698 \nL 168.825204 98.491087 \nL 168.904259 98.125976 \nL 168.983315 99.428585 \nL 169.06237 105.798039 \nL 169.141426 125.405609 \nL 169.299537 95.402879 \nL 169.457648 117.103404 \nL 169.536703 147.332796 \nL 169.615759 113.955861 \nL 169.694814 127.931318 \nL 169.77387 120.483542 \nL 169.931981 89.875591 \nL 170.011036 89.086827 \nL 170.090091 82.471329 \nL 170.169147 86.894187 \nL 170.248202 120.254112 \nL 170.327258 111.102621 \nL 170.485369 120.43291 \nL 170.564424 146.557085 \nL 170.722535 110.065439 \nL 170.801591 137.95583 \nL 171.038757 108.487118 \nL 171.117813 111.198744 \nL 171.275924 88.611748 \nL 171.354979 139.623945 \nL 171.51309 116.264402 \nL 171.750257 110.96615 \nL 171.829312 92.565066 \nL 171.908368 127.131477 \nL 171.987423 103.176998 \nL 172.066479 103.243849 \nL 172.145534 103.53934 \nL 172.22459 107.684904 \nL 172.303645 90.569815 \nL 172.382701 98.202717 \nL 172.461756 126.839942 \nL 172.619867 103.4982 \nL 172.698923 105.622011 \nL 172.777978 102.638629 \nL 173.015145 140.376317 \nL 173.173256 106.631108 \nL 173.252311 115.373581 \nL 173.331367 113.806336 \nL 173.410422 114.012032 \nL 173.489478 108.393368 \nL 173.568533 137.190404 \nL 173.647589 128.251333 \nL 173.726644 117.278641 \nL 173.8057 117.995808 \nL 173.884755 132.156391 \nL 173.963811 128.582424 \nL 174.042866 107.295268 \nL 174.121921 137.800371 \nL 174.200977 125.826099 \nL 174.280032 143.017532 \nL 174.359088 128.304972 \nL 174.438143 132.984515 \nL 174.517199 139.160575 \nL 174.596254 121.741492 \nL 174.754365 180.856605 \nL 174.833421 168.553417 \nL 174.991532 123.243032 \nL 175.070587 128.101175 \nL 175.149643 121.908105 \nL 175.228698 138.770069 \nL 175.386809 114.187902 \nL 175.465865 133.571302 \nL 175.54492 119.62674 \nL 175.623976 141.317376 \nL 175.703031 116.569782 \nL 175.782087 142.953054 \nL 175.861142 133.948319 \nL 175.940198 139.846255 \nL 176.177364 119.569778 \nL 176.335475 144.742609 \nL 176.414531 135.553301 \nL 176.493586 129.885627 \nL 176.572642 134.715328 \nL 176.809808 113.528092 \nL 176.888864 141.705311 \nL 176.967919 132.615726 \nL 177.12603 129.207424 \nL 177.205086 131.384438 \nL 177.363197 120.959966 \nL 177.442252 143.684739 \nL 177.521308 139.369198 \nL 177.679419 136.331109 \nL 177.916585 116.683785 \nL 177.99564 138.56825 \nL 178.153751 114.271327 \nL 178.232807 129.050027 \nL 178.311862 127.12942 \nL 178.390918 126.798922 \nL 178.469973 116.783824 \nL 178.549029 153.193389 \nL 178.786195 119.09549 \nL 178.944306 132.991517 \nL 179.023362 115.629514 \nL 179.102417 146.452259 \nL 179.339584 120.240228 \nL 179.418639 122.008263 \nL 179.57675 111.654044 \nL 179.655806 136.938584 \nL 179.892972 114.279041 \nL 180.130139 110.084901 \nL 180.209194 142.07141 \nL 180.525416 75.387873 \nL 180.762583 149.541495 \nL 180.999749 120.585441 \nL 181.078805 115.824885 \nL 181.15786 119.28659 \nL 181.236916 110.129798 \nL 181.315971 143.691424 \nL 181.553138 106.625174 \nL 181.790304 93.197225 \nL 181.86936 116.267962 \nL 181.948415 90.521042 \nL 182.02747 100.368378 \nL 182.106526 100.109241 \nL 182.343692 93.528079 \nL 182.422748 126.821786 \nL 182.580859 89.277016 \nL 182.659914 87.950554 \nL 182.73897 89.473179 \nL 182.976136 155.090539 \nL 183.213303 112.351591 \nL 183.371414 107.272088 \nL 183.450469 105.039615 \nL 183.529525 137.399383 \nL 183.60858 96.413558 \nL 183.687636 97.393382 \nL 183.924802 81.416742 \nL 184.082913 119.56068 \nL 184.241024 87.13232 \nL 184.32008 112.883077 \nL 184.399135 99.682936 \nL 184.478191 100.216163 \nL 184.557246 103.28934 \nL 184.636302 135.469678 \nL 184.794413 85.624806 \nL 185.110635 112.167097 \nL 185.18969 143.368006 \nL 185.347801 91.744181 \nL 185.505912 85.517725 \nL 185.584968 91.85672 \nL 185.664023 91.349521 \nL 185.743079 125.048014 \nL 185.901189 82.787547 \nL 185.980245 75.771614 \nL 186.0593 81.823584 \nL 186.138356 76.786605 \nL 186.296467 121.327291 \nL 186.375522 103.640566 \nL 186.533633 117.545848 \nL 186.612689 102.791714 \nL 186.691744 111.993838 \nL 186.7708 105.61671 \nL 186.849855 122.273849 \nL 187.007966 82.868757 \nL 187.087022 80.364172 \nL 187.166077 83.678962 \nL 187.245133 80.179757 \nL 187.403244 122.569576 \nL 187.482299 79.881301 \nL 187.561355 80.144631 \nL 187.64041 81.768402 \nL 187.798521 75.20247 \nL 188.035688 121.952726 \nL 188.114743 86.133943 \nL 188.193799 90.327766 \nL 188.272854 88.621242 \nL 188.35191 89.730813 \nL 188.510021 123.392281 \nL 188.589076 93.508459 \nL 188.668132 97.346468 \nL 188.826243 109.427346 \nL 188.905298 112.856179 \nL 188.984354 104.079806 \nL 189.063409 125.049438 \nL 189.22152 106.12735 \nL 189.379631 151.080773 \nL 189.537742 103.668651 \nL 189.616798 120.343036 \nL 189.695853 102.495907 \nL 189.774909 104.520272 \nL 189.933019 150.648377 \nL 190.09113 108.21461 \nL 190.170186 130.469724 \nL 190.328297 85.360368 \nL 190.407352 92.885239 \nL 190.565463 84.143479 \nL 190.644519 89.539199 \nL 190.723574 117.340429 \nL 190.881685 70.74761 \nL 190.960741 68.833728 \nL 191.118852 70.965529 \nL 191.197907 78.976713 \nL 191.276963 113.924532 \nL 191.356018 62.197225 \nL 191.435074 64.303987 \nL 191.514129 63.286662 \nL 191.830351 123.563839 \nL 191.988462 72.951325 \nL 192.067518 67.775818 \nL 192.146573 69.876843 \nL 192.225629 65.961856 \nL 192.38374 116.883072 \nL 192.541851 68.419686 \nL 192.699962 85.24945 \nL 192.779017 86.026585 \nL 192.858073 92.772384 \nL 192.937128 124.737611 \nL 193.095239 65.665338 \nL 193.332406 81.652975 \nL 193.569572 130.623086 \nL 193.648628 127.094096 \nL 193.806738 76.11928 \nL 193.885794 92.580335 \nL 193.964849 102.161177 \nL 194.043905 137.760933 \nL 194.202016 102.244246 \nL 194.281071 101.366755 \nL 194.439182 74.805595 \nL 194.518238 87.703086 \nL 194.597293 120.988289 \nL 194.755404 91.338643 \nL 194.83446 91.685637 \nL 194.913515 83.16314 \nL 195.150682 129.684322 \nL 195.308793 91.915581 \nL 195.387848 79.635573 \nL 195.466904 82.055783 \nL 195.545959 74.523356 \nL 195.625015 81.313142 \nL 195.70407 114.793281 \nL 195.783126 63.095602 \nL 195.862181 68.61213 \nL 195.941237 65.730132 \nL 196.020292 87.54561 \nL 196.099348 75.087359 \nL 196.257459 118.925396 \nL 196.41557 84.523937 \nL 196.494625 99.148878 \nL 196.652736 73.909868 \nL 196.731792 83.437585 \nL 196.810847 110.767376 \nL 196.968958 64.983733 \nL 197.048014 70.776645 \nL 197.206125 146.021484 \nL 197.443291 61.426301 \nL 197.522347 58.254984 \nL 197.759513 89.646952 \nL 197.838568 94.684881 \nL 197.917624 125.087571 \nL 198.075735 83.888574 \nL 198.15479 85.981965 \nL 198.312901 74.78376 \nL 198.471012 108.599657 \nL 198.629123 107.023038 \nL 198.708179 79.082884 \nL 198.787234 92.587257 \nL 198.86629 89.971675 \nL 198.945345 90.943588 \nL 199.024401 123.173254 \nL 199.182512 76.369834 \nL 199.340623 86.816655 \nL 199.419678 138.619714 \nL 199.498734 106.05243 \nL 199.577789 128.915493 \nL 199.814956 77.580512 \nL 199.894011 81.666227 \nL 199.973067 70.3039 \nL 200.131178 131.932301 \nL 200.289289 81.48739 \nL 200.368344 78.566666 \nL 200.4474 97.959402 \nL 200.526455 96.07321 \nL 200.605511 98.239663 \nL 200.684566 125.900743 \nL 200.842677 98.988989 \nL 201.079844 107.801122 \nL 201.158899 103.058881 \nL 201.237955 129.751489 \nL 201.396066 99.283649 \nL 201.475121 96.898921 \nL 201.554177 97.578034 \nL 201.633232 96.42135 \nL 201.712287 99.22103 \nL 201.791343 131.243536 \nL 201.949454 99.370239 \nL 202.107565 122.02646 \nL 202.18662 109.498232 \nL 202.265676 110.359821 \nL 202.344731 134.527274 \nL 202.502842 102.515765 \nL 202.581898 106.04345 \nL 202.660953 97.905288 \nL 202.89812 127.706516 \nL 203.056231 92.897739 \nL 203.214342 104.867542 \nL 203.293397 105.458324 \nL 203.372453 111.081774 \nL 203.451508 134.80172 \nL 203.530564 132.586098 \nL 203.609619 136.473197 \nL 203.688675 154.048135 \nL 203.925841 115.825281 \nL 204.004897 150.601067 \nL 204.083952 138.055711 \nL 204.163008 139.894554 \nL 204.400174 131.643101 \nL 204.47923 122.116887 \nL 204.558285 153.18172 \nL 204.716396 137.546891 \nL 204.874507 126.957466 \nL 204.953563 130.222573 \nL 205.032618 118.375001 \nL 205.111674 146.99581 \nL 205.269785 124.967674 \nL 205.506951 152.479704 \nL 205.586006 131.388868 \nL 205.665062 153.443033 \nL 205.823173 139.868842 \nL 205.981284 136.874621 \nL 206.060339 143.770063 \nL 206.139395 133.317822 \nL 206.21845 150.876541 \nL 206.297506 138.778574 \nL 206.376561 140.676554 \nL 206.455617 139.928968 \nL 206.613728 144.96306 \nL 206.692783 130.25497 \nL 206.771839 150.689397 \nL 206.850894 145.652972 \nL 206.92995 130.625855 \nL 207.009005 134.047607 \nL 207.167116 127.113795 \nL 207.246172 121.215741 \nL 207.325227 158.181358 \nL 207.404283 140.334901 \nL 207.483338 140.895858 \nL 207.562394 143.560609 \nL 207.720505 135.466316 \nL 207.79956 136.243767 \nL 207.878616 149.329905 \nL 208.036727 128.711934 \nL 208.115782 129.897731 \nL 208.352949 118.790507 \nL 208.432004 144.878685 \nL 208.669171 103.507298 \nL 208.827282 110.097163 \nL 208.906337 117.197352 \nL 208.985393 148.325002 \nL 209.143504 119.412658 \nL 209.222559 117.873577 \nL 209.301615 118.386037 \nL 209.38067 105.251758 \nL 209.459726 112.266702 \nL 209.617836 154.538957 \nL 209.775947 101.982498 \nL 209.855003 97.811736 \nL 209.934058 100.681748 \nL 210.013114 107.607689 \nL 210.092169 135.102234 \nL 210.171225 105.835816 \nL 210.25028 114.456533 \nL 210.329336 115.188731 \nL 210.487447 108.355354 \nL 210.566502 114.63802 \nL 210.645558 145.108748 \nL 210.803669 95.787134 \nL 210.96178 88.277492 \nL 211.040835 88.712183 \nL 211.119891 99.588118 \nL 211.198946 134.171302 \nL 211.357057 92.865501 \nL 211.436113 94.562848 \nL 211.515168 92.408816 \nL 211.594224 96.909047 \nL 211.752335 125.912135 \nL 211.910446 76.481344 \nL 212.068557 103.918295 \nL 212.147612 99.645001 \nL 212.226668 109.394039 \nL 212.384779 144.034343 \nL 212.54289 89.381961 \nL 212.621945 92.880137 \nL 212.701001 86.812423 \nL 212.780056 90.526698 \nL 212.859112 116.105027 \nL 212.938167 108.125963 \nL 213.096278 76.783045 \nL 213.175334 71.529413 \nL 213.254389 73.336056 \nL 213.4125 123.267756 \nL 213.570611 75.026164 \nL 213.649666 78.553731 \nL 213.728722 75.880752 \nL 213.807777 113.246922 \nL 213.886833 105.524938 \nL 214.044944 137.535221 \nL 214.203055 75.179447 \nL 214.361166 66.977678 \nL 214.519277 126.776493 \nL 214.677388 79.607211 \nL 214.835499 63.409447 \nL 214.914554 64.408654 \nL 215.072665 122.803199 \nL 215.230776 63.369692 \nL 215.309832 65.900662 \nL 215.388887 61.990778 \nL 215.467943 69.900103 \nL 215.626054 119.515822 \nL 215.705109 60.607077 \nL 215.784165 61.950074 \nL 215.86322 53.681018 \nL 215.942276 54.058905 \nL 216.100387 95.31969 \nL 216.179442 121.659451 \nL 216.337553 65.898961 \nL 216.495664 50.060453 \nL 216.57472 57.260088 \nL 216.732831 108.514333 \nL 216.811886 62.782193 \nL 216.890942 88.18841 \nL 216.969997 54.427417 \nL 217.049053 59.662339 \nL 217.128108 59.746675 \nL 217.286219 114.122079 \nL 217.44433 52.769033 \nL 217.602441 57.642484 \nL 217.760552 90.563803 \nL 217.839607 118.587975 \nL 217.918663 99.711101 \nL 217.997718 105.477233 \nL 218.076774 106.455356 \nL 218.155829 119.52405 \nL 218.234885 158.324237 \nL 218.31394 127.295519 \nL 218.392996 133.931389 \nL 218.630162 112.869589 \nL 218.788273 155.882389 \nL 219.02544 90.29438 \nL 219.183551 105.462478 \nL 219.262606 103.614339 \nL 219.499773 149.6875 \nL 219.736939 86.821007 \nL 219.815995 98.474987 \nL 219.89505 96.713795 \nL 219.974106 102.203305 \nL 220.053161 128.746427 \nL 220.132217 118.756883 \nL 220.211272 105.240287 \nL 220.290328 105.541394 \nL 220.369383 125.631479 \nL 220.448439 124.355531 \nL 220.527494 125.097856 \nL 220.60655 138.811841 \nL 220.764661 99.951053 \nL 221.080883 126.206992 \nL 221.159938 144.13818 \nL 221.318049 111.728728 \nL 221.47616 91.275827 \nL 221.555215 99.88523 \nL 221.792382 144.757878 \nL 221.871437 141.311917 \nL 222.029548 64.751811 \nL 222.108604 67.864267 \nL 222.266715 112.005389 \nL 222.34577 80.013381 \nL 222.424826 85.108707 \nL 222.503881 73.499347 \nL 222.820103 126.440853 \nL 222.899159 79.208398 \nL 222.978214 84.712267 \nL 223.136325 67.821625 \nL 223.215381 74.805199 \nL 223.373492 107.179604 \nL 223.531603 62.168072 \nL 223.610658 57.982753 \nL 223.689714 61.890026 \nL 223.768769 61.422226 \nL 223.92688 114.010054 \nL 224.084991 54.9682 \nL 224.164047 59.872149 \nL 224.243102 58.08568 \nL 224.322158 59.919894 \nL 224.480269 121.055852 \nL 224.63838 71.549428 \nL 224.717435 69.563592 \nL 224.796491 77.937553 \nL 224.875546 66.925463 \nL 225.033657 107.449778 \nL 225.112713 53.502972 \nL 225.191768 57.147232 \nL 225.270823 58.324208 \nL 225.428934 119.091653 \nL 225.50799 99.941322 \nL 225.587045 121.771357 \nL 225.666101 68.720555 \nL 225.745156 74.877193 \nL 225.824212 88.852017 \nL 225.903267 86.436632 \nL 225.982323 85.382045 \nL 226.061378 97.323208 \nL 226.140434 131.545118 \nL 226.298545 78.961444 \nL 226.3776 78.57616 \nL 226.535711 71.422095 \nL 226.693822 119.80977 \nL 226.772878 88.347627 \nL 226.851933 90.881326 \nL 226.930989 81.794945 \nL 227.010044 82.414525 \nL 227.168155 105.476718 \nL 227.247211 134.487915 \nL 227.484377 90.750986 \nL 227.563433 115.972868 \nL 227.642488 109.527386 \nL 227.721544 108.910891 \nL 227.800599 128.630486 \nL 227.95871 65.916564 \nL 228.116821 55.199529 \nL 228.274932 80.401553 \nL 228.353988 126.440062 \nL 228.433043 75.041156 \nL 228.512099 78.834466 \nL 228.591154 84.281928 \nL 228.67021 65.87586 \nL 228.828321 91.865818 \nL 228.907376 125.916842 \nL 229.144543 86.89482 \nL 229.302653 74.048001 \nL 229.381709 86.724053 \nL 229.460764 122.377013 \nL 229.618875 76.923828 \nL 229.776986 81.545262 \nL 229.856042 87.357557 \nL 229.935097 85.288691 \nL 230.014153 117.353008 \nL 230.093208 66.830764 \nL 230.172264 82.157286 \nL 230.330375 118.436551 \nL 230.488486 99.922414 \nL 230.567541 116.706846 \nL 230.883763 80.159148 \nL 231.041874 97.442354 \nL 231.12093 118.72326 \nL 231.279041 69.423798 \nL 231.358096 67.380288 \nL 231.595263 86.887621 \nL 231.674318 121.981048 \nL 231.753374 103.395115 \nL 231.832429 118.830499 \nL 231.911485 103.081033 \nL 231.99054 109.483161 \nL 232.069596 106.757888 \nL 232.148651 98.789899 \nL 232.227707 131.892665 \nL 232.385818 99.683965 \nL 232.622984 157.752323 \nL 232.70204 120.771794 \nL 232.781095 152.743746 \nL 232.860151 127.202877 \nL 232.939206 135.2338 \nL 233.018262 130.900618 \nL 233.097317 119.032832 \nL 233.176372 125.165498 \nL 233.255428 116.849528 \nL 233.334483 138.088227 \nL 233.650705 111.847161 \nL 233.729761 105.283443 \nL 233.808816 114.176747 \nL 233.887872 145.167134 \nL 234.045983 106.636487 \nL 234.362205 97.555012 \nL 234.44126 119.598061 \nL 234.520316 92.269734 \nL 234.599371 97.719648 \nL 234.678427 105.235777 \nL 234.757482 100.774826 \nL 234.994649 139.45211 \nL 235.15276 120.628874 \nL 235.231815 112.392176 \nL 235.310871 115.070377 \nL 235.389926 119.822586 \nL 235.468982 112.017928 \nL 235.548037 146.657045 \nL 235.785204 113.306772 \nL 235.864259 109.46714 \nL 235.943315 121.004863 \nL 236.02237 112.267137 \nL 236.101426 138.421969 \nL 236.259537 100.163157 \nL 236.338592 97.976056 \nL 236.417648 99.583213 \nL 236.575759 112.310452 \nL 236.654814 136.481307 \nL 236.891981 80.918364 \nL 237.129147 102.684119 \nL 237.208202 131.375894 \nL 237.287258 93.849756 \nL 237.366313 97.520281 \nL 237.524424 126.151415 \nL 237.60348 114.59605 \nL 237.682535 124.428276 \nL 237.761591 148.537027 \nL 237.840646 110.418682 \nL 237.919702 110.524734 \nL 238.077813 105.747406 \nL 238.235924 119.338568 \nL 238.314979 143.069352 \nL 238.47309 112.496567 \nL 238.552146 135.793531 \nL 238.631201 105.003183 \nL 238.710257 109.922164 \nL 238.789312 115.57722 \nL 238.868368 148.306093 \nL 239.026479 112.942967 \nL 239.105534 108.521572 \nL 239.263645 82.343758 \nL 239.421756 137.236408 \nL 239.579867 71.848716 \nL 239.658923 63.463442 \nL 239.975145 131.286535 \nL 240.133256 79.220146 \nL 240.212311 97.574157 \nL 240.291367 91.629545 \nL 240.370422 86.212621 \nL 240.449478 97.736736 \nL 240.528533 155.555253 \nL 240.7657 68.245477 \nL 240.844755 67.453152 \nL 240.923811 68.323008 \nL 241.081921 130.290096 \nL 241.160977 91.379545 \nL 241.240032 93.930175 \nL 241.319088 134.17142 \nL 241.398143 78.695622 \nL 241.477199 88.56072 \nL 241.63531 122.79327 \nL 241.872476 67.105842 \nL 241.951532 59.211865 \nL 242.030587 72.343968 \nL 242.188698 124.748964 \nL 242.346809 72.832101 \nL 242.425865 71.525536 \nL 242.50492 66.935748 \nL 242.663031 79.407646 \nL 242.742087 124.40561 \nL 242.900198 76.627191 \nL 242.979253 114.701509 \nL 243.058309 74.31232 \nL 243.137364 76.592381 \nL 243.295475 130.517153 \nL 243.453586 69.586061 \nL 243.611697 59.618115 \nL 243.769808 82.744271 \nL 243.848864 120.104983 \nL 243.927919 85.240708 \nL 244.006975 106.593529 \nL 244.08603 65.228076 \nL 244.165086 79.078137 \nL 244.244141 70.751803 \nL 244.402252 130.658055 \nL 244.639419 65.068582 \nL 244.718474 59.483186 \nL 244.79753 67.258057 \nL 244.95564 119.049604 \nL 245.113751 59.806326 \nL 245.192807 54.635684 \nL 245.271862 60.681246 \nL 245.509029 110.163065 \nL 245.66714 53.41571 \nL 245.746195 48.853928 \nL 245.825251 83.411913 \nL 245.904306 71.795354 \nL 246.062417 108.514768 \nL 246.141473 57.323735 \nL 246.220528 71.235663 \nL 246.378639 86.401189 \nL 246.615806 145.440512 \nL 246.773917 118.954984 \nL 246.932028 108.645069 \nL 247.090139 118.127691 \nL 247.169194 142.670974 \nL 247.327305 89.369659 \nL 247.485416 112.411401 \nL 247.564472 111.256023 \nL 247.643527 118.260721 \nL 247.722583 149.876503 \nL 247.880694 77.224065 \nL 247.959749 74.548554 \nL 248.038805 74.629567 \nL 248.275971 121.397465 \nL 248.434082 55.489085 \nL 248.592193 66.14817 \nL 248.671249 63.787453 \nL 248.82936 102.108527 \nL 248.98747 68.649511 \nL 249.066526 69.768102 \nL 249.145581 68.351806 \nL 249.224637 59.913209 \nL 249.382748 110.097994 \nL 249.461803 62.238206 \nL 249.540859 64.05549 \nL 249.619914 57.597785 \nL 249.69897 59.345765 \nL 249.778025 57.87587 \nL 249.936136 117.124686 \nL 250.015192 59.607237 \nL 250.094247 66.908137 \nL 250.173303 52.553527 \nL 250.252358 55.358943 \nL 250.331414 53.565551 \nL 250.489525 101.867427 \nL 250.647636 44.745903 \nL 250.726691 45.8353 \nL 250.884802 64.922578 \nL 251.042913 128.992115 \nL 251.121969 81.5294 \nL 251.201024 83.864128 \nL 251.28008 77.181858 \nL 251.438191 51.574612 \nL 251.596302 107.425767 \nL 251.675357 69.971701 \nL 251.754413 81.287232 \nL 251.833468 77.738226 \nL 251.912524 54.510526 \nL 251.991579 64.10462 \nL 252.228746 118.087857 \nL 252.307801 116.555581 \nL 252.544968 71.807221 \nL 252.703079 103.40453 \nL 252.861189 52.068006 \nL 252.940245 51.279043 \nL 253.098356 62.324678 \nL 253.177411 71.385623 \nL 253.256467 98.12744 \nL 253.414578 60.182394 \nL 253.7308 84.595772 \nL 253.809855 106.100412 \nL 253.967966 41.391912 \nL 254.126077 62.662771 \nL 254.284188 81.132209 \nL 254.363244 103.641357 \nL 254.521355 44.417145 \nL 254.679466 60.254783 \nL 254.916632 116.902455 \nL 255.074743 66.021587 \nL 255.153799 75.454724 \nL 255.31191 47.742339 \nL 255.470021 86.225675 \nL 255.549076 54.997472 \nL 255.628132 60.807868 \nL 255.707187 45.994319 \nL 255.865298 124.641765 \nL 256.18152 54.705937 \nL 256.418687 99.37281 \nL 256.497742 73.311135 \nL 256.576798 104.834433 \nL 256.813964 54.051271 \nL 256.893019 62.777525 \nL 257.209241 148.545611 \nL 257.367352 96.276453 \nL 257.446408 94.521471 \nL 257.525463 84.735883 \nL 257.683574 112.389209 \nL 257.76263 85.67979 \nL 257.841685 88.571558 \nL 257.999796 70.434794 \nL 258.236963 112.576749 \nL 258.395074 49.130945 \nL 258.474129 54.830858 \nL 258.790351 126.35185 \nL 258.948462 77.750093 \nL 259.027518 80.388064 \nL 259.185629 94.192437 \nL 259.264684 94.537136 \nL 259.34374 118.331884 \nL 259.422795 114.736952 \nL 259.659962 100.273561 \nL 259.739017 89.960678 \nL 259.818073 94.268109 \nL 259.897128 133.947528 \nL 260.134295 89.611391 \nL 260.21335 88.793275 \nL 260.292406 78.392616 \nL 260.371461 88.958741 \nL 260.450517 119.2178 \nL 260.529572 86.535999 \nL 260.608628 97.411539 \nL 260.687683 92.226775 \nL 260.766738 107.184469 \nL 260.845794 105.925808 \nL 260.924849 94.257231 \nL 261.003905 126.242475 \nL 261.162016 95.085157 \nL 261.320127 105.219598 \nL 261.399182 130.102043 \nL 261.478238 127.777164 \nL 261.557293 140.269395 \nL 261.715404 113.259382 \nL 261.873515 118.046046 \nL 261.952571 116.184181 \nL 262.031626 109.542259 \nL 262.189737 142.912865 \nL 262.585015 113.110807 \nL 262.66407 138.765164 \nL 262.822181 120.023614 \nL 262.901237 128.755248 \nL 262.980292 127.309602 \nL 263.059348 126.582664 \nL 263.138403 116.170217 \nL 263.217459 141.761284 \nL 263.37557 119.95166 \nL 263.454625 125.530174 \nL 263.533681 116.892289 \nL 263.612736 127.08836 \nL 263.691792 102.871777 \nL 263.770847 139.068328 \nL 263.849903 125.228513 \nL 263.928958 129.770951 \nL 264.008014 120.829349 \nL 264.087069 123.994732 \nL 264.166125 138.061724 \nL 264.24518 121.755099 \nL 264.324236 151.639792 \nL 264.403291 141.389963 \nL 264.719513 94.058102 \nL 264.877624 140.056737 \nL 264.956679 128.328113 \nL 265.193846 92.149481 \nL 265.351957 102.479214 \nL 265.431012 142.529084 \nL 265.510068 114.730267 \nL 265.589123 130.11478 \nL 265.82629 92.812257 \nL 265.905345 100.557698 \nL 265.984401 130.866599 \nL 266.063456 99.372059 \nL 266.142512 111.266347 \nL 266.221567 113.068006 \nL 266.300623 110.427503 \nL 266.379678 115.730107 \nL 266.458734 103.555518 \nL 266.537789 126.667712 \nL 266.854011 87.578522 \nL 267.091178 134.541277 \nL 267.249289 105.13289 \nL 267.328344 112.185847 \nL 267.4074 126.365536 \nL 267.486455 124.949241 \nL 267.565511 115.956847 \nL 267.644566 136.843054 \nL 267.802677 109.713857 \nL 268.039844 120.809887 \nL 268.118899 113.142531 \nL 268.197955 130.743616 \nL 268.27701 111.106023 \nL 268.356066 114.499689 \nL 268.435121 116.88956 \nL 268.514177 112.874573 \nL 268.593232 114.229001 \nL 268.672287 114.137823 \nL 268.751343 146.412306 \nL 268.909454 101.199865 \nL 269.14662 89.782633 \nL 269.225676 93.895206 \nL 269.304731 121.162062 \nL 269.462842 73.492029 \nL 269.700009 95.218504 \nL 269.779064 86.425042 \nL 269.85812 122.003833 \nL 270.016231 81.694273 \nL 270.095286 83.311953 \nL 270.174342 116.43865 \nL 270.332453 87.100555 \nL 270.411508 117.141577 \nL 270.569619 81.24372 \nL 270.648675 99.544012 \nL 270.806786 81.095698 \nL 270.964897 118.543909 \nL 271.123008 82.026709 \nL 271.202063 86.697787 \nL 271.360174 64.233299 \nL 271.518285 101.526288 \nL 271.676396 48.184941 \nL 271.755452 60.55506 \nL 271.834507 106.392856 \nL 271.913563 100.452476 \nL 271.992618 103.584158 \nL 272.071674 125.748805 \nL 272.150729 54.014997 \nL 272.229785 71.808249 \nL 272.387896 91.081286 \nL 272.466951 73.041515 \nL 272.546006 78.155788 \nL 272.625062 94.986423 \nL 272.704117 51.963773 \nL 272.862228 122.838524 \nL 273.020339 77.93601 \nL 273.17845 115.740946 \nL 273.336561 59.755812 \nL 273.415617 55.794623 \nL 273.494672 44.82652 \nL 273.731839 122.22013 \nL 273.88995 47.300093 \nL 273.969005 47.669791 \nL 274.285227 107.812435 \nL 274.443338 32.990459 \nL 274.601449 41.096105 \nL 274.838616 110.480945 \nL 274.996727 50.388696 \nL 275.075782 69.143023 \nL 275.154838 66.149356 \nL 275.312949 91.701657 \nL 275.392004 123.989234 \nL 275.47106 80.275129 \nL 275.550115 81.32667 \nL 276.024448 137.151717 \nL 276.182559 84.631334 \nL 276.34067 76.870505 \nL 276.577836 108.867141 \nL 276.735947 58.345371 \nL 276.973114 87.594898 \nL 277.052169 115.467766 \nL 277.21028 75.50417 \nL 277.289336 84.334815 \nL 277.368391 81.298664 \nL 277.447447 67.556633 \nL 277.605558 120.663368 \nL 277.684613 71.529096 \nL 277.763669 71.707023 \nL 277.842724 79.945224 \nL 277.92178 73.866514 \nL 278.000835 76.772365 \nL 278.158946 120.884254 \nL 278.238002 67.087053 \nL 278.317057 70.386811 \nL 278.396113 73.423358 \nL 278.475168 54.225993 \nL 278.633279 94.826337 \nL 278.712335 113.109659 \nL 278.870446 53.190829 \nL 278.949501 60.699165 \nL 279.028557 49.711007 \nL 279.107612 50.315793 \nL 279.265723 110.12782 \nL 279.423834 53.476706 \nL 279.740056 100.388117 \nL 279.819112 133.428897 \nL 279.898167 128.71051 \nL 279.977223 133.382576 \nL 280.135334 93.239828 \nL 280.214389 99.405484 \nL 280.293445 96.272656 \nL 280.3725 117.486671 \nL 280.609666 59.359966 \nL 280.688722 61.631364 \nL 280.767777 51.78553 \nL 280.925888 123.609804 \nL 281.083999 48.996253 \nL 281.24211 73.679608 \nL 281.321166 66.727164 \nL 281.479277 114.140592 \nL 281.637388 60.552963 \nL 281.716443 42.793018 \nL 281.795499 47.548114 \nL 281.874554 48.153414 \nL 282.032665 98.219924 \nL 282.111721 49.642851 \nL 282.190776 50.573704 \nL 282.269832 43.495469 \nL 282.506998 66.146508 \nL 282.586054 103.32506 \nL 282.744165 45.067263 \nL 282.82322 46.913819 \nL 282.981331 63.304977 \nL 283.139442 120.948534 \nL 283.297553 72.515171 \nL 283.376609 71.558368 \nL 283.53472 138.78874 \nL 283.771886 69.264226 \nL 283.929997 56.031569 \nL 284.009053 49.273073 \nL 284.246219 103.704767 \nL 284.325274 86.693475 \nL 284.40433 85.02275 \nL 284.483385 98.095636 \nL 284.562441 88.123299 \nL 284.641496 92.17013 \nL 284.720552 82.938654 \nL 284.799607 111.595975 \nL 284.878663 92.810002 \nL 284.957718 92.947186 \nL 285.036774 97.744133 \nL 285.115829 74.622644 \nL 285.27394 108.10037 \nL 285.352996 122.708975 \nL 285.511107 78.801318 \nL 285.590162 84.674135 \nL 285.669218 86.615746 \nL 285.748273 79.904046 \nL 285.827329 83.640829 \nL 285.906384 113.780268 \nL 285.98544 112.178094 \nL 286.064495 116.557519 \nL 286.222606 67.831593 \nL 286.459773 108.179365 \nL 286.617884 71.875615 \nL 286.696939 89.425592 \nL 286.775995 74.353104 \nL 286.85505 85.445652 \nL 286.934106 80.51338 \nL 287.013161 112.696764 \nL 287.171272 71.467546 \nL 287.408439 87.555381 \nL 287.487494 72.750218 \nL 287.56655 90.530377 \nL 287.645605 65.410433 \nL 288.119938 133.371184 \nL 288.198994 135.73467 \nL 288.357104 127.300662 \nL 288.43616 138.134627 \nL 288.594271 104.443611 \nL 288.673326 124.407192 \nL 288.831437 108.023353 \nL 288.910493 105.993727 \nL 288.989548 94.105372 \nL 289.068604 98.533571 \nL 289.147659 95.332467 \nL 289.226715 124.463759 \nL 289.384826 93.574954 \nL 289.542937 107.701122 \nL 289.621992 87.256528 \nL 289.701048 91.075155 \nL 289.780103 131.054336 \nL 289.938214 104.163943 \nL 290.01727 111.412431 \nL 290.096325 107.709034 \nL 290.175381 115.111318 \nL 290.254436 105.87478 \nL 290.333492 139.709388 \nL 290.491603 99.029456 \nL 290.570658 117.484733 \nL 290.649714 112.817492 \nL 290.728769 114.91389 \nL 290.807825 91.216927 \nL 290.965936 125.556716 \nL 291.044991 91.064949 \nL 291.124047 105.146656 \nL 291.203102 98.209441 \nL 291.282158 109.981657 \nL 291.361213 88.024526 \nL 291.440269 118.278324 \nL 291.519324 102.844008 \nL 291.59838 107.441708 \nL 291.677435 99.617193 \nL 291.835546 114.584697 \nL 291.914602 100.670039 \nL 291.993657 131.09587 \nL 292.072713 119.110799 \nL 292.151768 111.494511 \nL 292.230823 118.101465 \nL 292.46799 100.726804 \nL 292.547045 128.835589 \nL 292.626101 120.938566 \nL 292.863267 100.556748 \nL 292.942323 101.116953 \nL 293.021378 93.194377 \nL 293.100434 118.537382 \nL 293.179489 85.489758 \nL 293.3376 104.281665 \nL 293.416656 98.99698 \nL 293.495711 105.121616 \nL 293.574767 89.524326 \nL 293.653822 119.510047 \nL 293.811933 82.38549 \nL 293.890989 89.309136 \nL 293.970044 88.91776 \nL 294.128155 83.448899 \nL 294.207211 110.677542 \nL 294.286266 72.806587 \nL 294.365322 78.843169 \nL 294.444377 95.397736 \nL 294.523433 87.532556 \nL 294.602488 88.334059 \nL 294.760599 123.1299 \nL 294.91871 103.773516 \nL 295.076821 95.900109 \nL 295.155877 87.555737 \nL 295.234932 94.440459 \nL 295.313988 120.334175 \nL 295.472099 100.326606 \nL 295.63021 116.605739 \nL 295.709265 110.906458 \nL 295.788321 96.847853 \nL 295.867376 126.583218 \nL 296.025487 73.318057 \nL 296.104543 75.930594 \nL 296.183598 89.888527 \nL 296.262653 126.545639 \nL 296.341709 104.685105 \nL 296.420764 126.26526 \nL 296.578875 86.342131 \nL 296.657931 84.369665 \nL 296.736986 85.364126 \nL 296.816042 93.543704 \nL 296.895097 87.38944 \nL 296.974153 115.631492 \nL 297.053208 73.703223 \nL 297.132264 73.990564 \nL 297.211319 77.360062 \nL 297.36943 74.90872 \nL 297.527541 112.028688 \nL 297.685652 62.274203 \nL 297.843763 82.15697 \nL 297.922819 65.144611 \nL 298.001874 75.830871 \nL 298.08093 109.347085 \nL 298.239041 61.123374 \nL 298.318096 63.469178 \nL 298.397152 46.804721 \nL 298.555263 79.044355 \nL 298.634318 121.225867 \nL 298.792429 63.590855 \nL 298.871485 62.06376 \nL 298.95054 54.078486 \nL 299.029596 102.15999 \nL 299.108651 89.411312 \nL 299.187707 93.911425 \nL 299.345818 42.741356 \nL 299.424873 55.133904 \nL 299.503929 51.399771 \nL 299.582984 40.228068 \nL 299.741095 98.316641 \nL 300.057317 42.694205 \nL 300.136372 31.549955 \nL 300.294483 101.367428 \nL 300.373539 38.224155 \nL 300.452594 50.104282 \nL 300.53165 49.845263 \nL 300.610705 52.210529 \nL 300.689761 92.177329 \nL 300.768816 80.589804 \nL 300.847872 98.903111 \nL 300.926927 41.875376 \nL 301.005983 57.447548 \nL 301.164094 44.289416 \nL 301.243149 51.64265 \nL 301.40126 95.45628 \nL 301.559371 38.406552 \nL 301.638427 37.664029 \nL 301.717482 77.821414 \nL 301.796538 62.518823 \nL 301.875593 72.528699 \nL 301.954649 109.990676 \nL 302.11276 31.736268 \nL 302.191815 48.7368 \nL 302.270871 33.730885 \nL 302.508037 96.629973 \nL 302.587093 72.086295 \nL 302.666148 84.964205 \nL 302.903315 44.014891 \nL 303.061426 86.099489 \nL 303.219537 53.897829 \nL 303.298592 55.749172 \nL 303.456703 53.889483 \nL 303.614814 98.145082 \nL 303.772925 91.621475 \nL 303.851981 90.835519 \nL 303.931036 74.157178 \nL 304.010091 74.360184 \nL 304.089147 77.015007 \nL 304.168202 111.426632 \nL 304.484424 60.91479 \nL 304.56348 60.129625 \nL 304.879702 125.417753 \nL 305.037813 75.044717 \nL 305.116868 76.640838 \nL 305.195924 75.051283 \nL 305.43309 120.087538 \nL 305.670257 50.191426 \nL 305.828368 96.266129 \nL 305.907423 70.852633 \nL 305.986479 74.373831 \nL 306.14459 57.936827 \nL 306.223645 57.079866 \nL 306.381756 94.654699 \nL 306.460812 60.637971 \nL 306.539867 61.700826 \nL 306.618923 48.335257 \nL 306.856089 76.049225 \nL 306.935145 94.117002 \nL 307.093256 49.443682 \nL 307.172311 37.752597 \nL 307.251367 44.308285 \nL 307.330422 32.670206 \nL 307.488533 93.045564 \nL 307.7257 37.679852 \nL 307.804755 41.835068 \nL 307.883811 40.127159 \nL 308.041921 74.713427 \nL 308.200032 24.431649 \nL 308.358143 52.924729 \nL 308.437199 52.405031 \nL 308.59531 98.408571 \nL 308.753421 36.904536 \nL 308.832476 44.23107 \nL 308.990587 28.098852 \nL 309.148698 67.368065 \nL 309.227754 25.094623 \nL 309.306809 26.421639 \nL 309.385865 30.557314 \nL 309.46492 23.426231 \nL 309.543976 33.868425 \nL 309.702087 71.908051 \nL 309.860198 19.627581 \nL 310.018309 28.922585 \nL 310.334531 125.625901 \nL 310.413586 119.303955 \nL 310.650753 45.803417 \nL 310.808864 83.454437 \nL 310.887919 26.448893 \nL 310.966975 41.729095 \nL 311.04603 32.965815 \nL 311.125086 34.102325 \nL 311.204141 34.081755 \nL 311.362252 76.427745 \nL 311.441308 34.92234 \nL 311.520363 39.372334 \nL 311.599419 17.083636 \nL 311.91564 94.048608 \nL 312.073751 65.445401 \nL 312.231862 79.321847 \nL 312.310918 71.834634 \nL 312.389973 82.408354 \nL 312.469029 112.735174 \nL 312.706195 40.802356 \nL 312.864306 51.701313 \nL 313.022417 115.785408 \nL 313.180528 43.317384 \nL 313.259584 33.165736 \nL 313.575806 88.551305 \nL 313.733917 44.149859 \nL 313.812972 44.724542 \nL 313.971083 91.472069 \nL 314.050139 82.968757 \nL 314.129194 102.00105 \nL 314.20825 50.932525 \nL 314.287305 61.984172 \nL 314.366361 56.028404 \nL 314.445416 66.68911 \nL 314.524472 60.604585 \nL 314.603527 68.714226 \nL 314.682583 92.896553 \nL 314.840694 20.822002 \nL 314.919749 87.792208 \nL 314.998805 48.132726 \nL 315.07786 55.849488 \nL 315.235971 95.465339 \nL 315.394082 55.336475 \nL 315.473138 55.469742 \nL 315.552193 53.688138 \nL 315.710304 76.752744 \nL 315.78936 108.381224 \nL 315.94747 56.191893 \nL 316.026526 62.512375 \nL 316.105581 51.414605 \nL 316.342748 100.592627 \nL 316.421803 67.924156 \nL 316.500859 74.476244 \nL 316.738025 56.213847 \nL 316.896136 106.357651 \nL 317.054247 79.285969 \nL 317.133303 82.750205 \nL 317.212358 72.398201 \nL 317.291414 73.75797 \nL 317.449525 109.448905 \nL 317.607636 74.167265 \nL 317.765747 92.667835 \nL 317.844802 91.960636 \nL 317.923858 86.620611 \nL 318.002913 115.617449 \nL 318.161024 100.235942 \nL 318.24008 100.955996 \nL 318.398191 119.074446 \nL 318.477246 103.419799 \nL 318.556302 125.834485 \nL 318.793468 96.593186 \nL 318.872524 124.455452 \nL 318.951579 123.679741 \nL 319.030635 108.995068 \nL 319.188746 148.612857 \nL 319.267801 116.117409 \nL 319.346857 117.161157 \nL 319.425912 116.784259 \nL 319.504968 120.169025 \nL 319.584023 114.839918 \nL 319.663079 138.615797 \nL 319.9793 90.316611 \nL 320.058356 85.611356 \nL 320.137411 85.891657 \nL 320.295522 127.667948 \nL 320.374578 109.464332 \nL 320.532689 117.467249 \nL 320.611744 115.227378 \nL 320.6908 108.12537 \nL 320.769855 134.081072 \nL 321.007022 106.417777 \nL 321.165133 122.455613 \nL 321.244188 122.279387 \nL 321.323244 149.634098 \nL 321.402299 129.679219 \nL 321.481355 130.908094 \nL 321.639466 120.892323 \nL 321.718521 128.096705 \nL 321.797577 115.751863 \nL 321.876632 141.047123 \nL 322.113799 103.475851 \nL 322.27191 117.521007 \nL 322.350965 101.685505 \nL 322.430021 128.618856 \nL 322.509076 124.966171 \nL 322.588132 125.359723 \nL 322.667187 117.680421 \nL 322.746243 120.59446 \nL 322.904354 107.016076 \nL 322.983409 129.580327 \nL 323.14152 101.894721 \nL 323.220576 106.600332 \nL 323.299631 119.651858 \nL 323.378687 118.393513 \nL 323.457742 99.60319 \nL 323.536798 129.93175 \nL 323.694909 100.420673 \nL 323.773964 100.805008 \nL 323.853019 110.587194 \nL 323.932075 96.46874 \nL 324.090186 140.019316 \nL 324.248297 115.214878 \nL 324.406408 122.438801 \nL 324.564519 106.813821 \nL 324.643574 127.585115 \nL 324.801685 103.610779 \nL 324.880741 108.505275 \nL 324.959796 100.075341 \nL 325.117907 137.051559 \nL 325.196963 134.966039 \nL 325.355074 102.118139 \nL 325.59224 82.959066 \nL 325.750351 117.44747 \nL 325.829407 102.582062 \nL 326.066573 75.921891 \nL 326.30374 119.206685 \nL 326.461851 83.358195 \nL 326.540906 83.489524 \nL 326.619962 79.862907 \nL 326.699017 70.764461 \nL 326.857128 112.309423 \nL 326.936184 78.348272 \nL 327.015239 79.868603 \nL 327.17335 87.336354 \nL 327.252406 80.105667 \nL 327.410517 116.240114 \nL 327.568628 76.305474 \nL 327.647683 74.647011 \nL 327.726738 75.302944 \nL 327.805794 67.631198 \nL 327.963905 120.747387 \nL 328.122016 71.342387 \nL 328.280127 63.97341 \nL 328.438238 72.010266 \nL 328.517293 94.769177 \nL 328.675404 50.866662 \nL 328.75446 52.280347 \nL 328.912571 66.097814 \nL 329.070682 110.33759 \nL 329.307848 52.33189 \nL 329.386904 60.17646 \nL 329.465959 59.83817 \nL 329.545015 104.620549 \nL 329.62407 101.089026 \nL 329.782181 43.405398 \nL 329.861237 40.115648 \nL 329.940292 45.310776 \nL 330.019348 42.642741 \nL 330.177459 86.352099 \nL 330.33557 31.466648 \nL 330.414625 41.02162 \nL 330.493681 23.463217 \nL 330.572736 76.785142 \nL 330.651792 72.203383 \nL 330.730847 94.324438 \nL 330.809903 50.022518 \nL 330.888958 55.816696 \nL 330.968014 55.604829 \nL 331.047069 52.218638 \nL 331.126125 43.41774 \nL 331.284236 75.341552 \nL 331.363291 47.596295 \nL 331.521402 70.132777 \nL 331.600457 46.488385 \nL 331.679513 48.575803 \nL 331.837624 81.091742 \nL 331.916679 25.863332 \nL 331.995735 26.619937 \nL 332.07479 43.661925 \nL 332.232901 24.406135 \nL 332.391012 71.788154 \nL 332.549123 32.885277 \nL 332.628179 33.051337 \nL 332.707234 34.91965 \nL 332.944401 89.401264 \nL 333.102512 44.572367 \nL 333.181567 44.127312 \nL 333.339678 61.885912 \nL 333.418734 61.144735 \nL 333.497789 83.367174 \nL 333.576845 47.274737 \nL 333.734956 90.974166 \nL 333.893067 62.017795 \nL 333.972122 62.565184 \nL 334.051178 84.108194 \nL 334.130233 71.614697 \nL 334.209289 79.805747 \nL 334.288344 120.810203 \nL 334.446455 70.598441 \nL 334.525511 73.474268 \nL 334.604566 101.361494 \nL 334.762677 55.331926 \nL 334.841733 54.675637 \nL 334.920788 52.228172 \nL 335.078899 76.107057 \nL 335.157955 88.167484 \nL 335.316066 38.317865 \nL 335.395121 46.920148 \nL 335.474177 43.594995 \nL 335.553232 41.288827 \nL 335.711343 79.11449 \nL 335.869454 37.727755 \nL 336.10662 76.455118 \nL 336.185676 66.485827 \nL 336.264731 90.296516 \nL 336.343787 52.621526 \nL 336.422842 57.866693 \nL 336.501898 55.644939 \nL 336.580953 57.586195 \nL 336.660009 54.752456 \nL 336.81812 75.561251 \nL 336.897175 49.708594 \nL 336.976231 54.560368 \nL 337.055286 64.126258 \nL 337.134342 62.312099 \nL 337.213397 58.416692 \nL 337.371508 82.010609 \nL 337.529619 43.928657 \nL 337.608675 44.070469 \nL 337.68773 45.345546 \nL 337.766786 52.274216 \nL 337.924897 88.572231 \nL 338.083008 44.66224 \nL 338.241119 83.155189 \nL 338.320174 63.307825 \nL 338.478285 96.630448 \nL 338.557341 111.833 \nL 338.794507 19.631101 \nL 338.873563 24.25479 \nL 339.031674 75.929802 \nL 339.189785 28.231051 \nL 339.347896 32.006956 \nL 339.585062 92.393507 \nL 339.743173 39.672057 \nL 339.822228 37.545121 \nL 340.059395 89.384334 \nL 340.13845 108.144436 \nL 340.296561 62.755175 \nL 340.533728 72.792821 \nL 341.087116 128.35964 \nL 341.166172 120.469816 \nL 341.245227 129.73353 \nL 341.71956 94.125032 \nL 341.798616 110.369434 \nL 341.877671 105.32482 \nL 342.035782 87.914518 \nL 342.114838 93.51008 \nL 342.352004 120.081842 \nL 342.510115 94.737334 \nL 342.668226 117.98228 \nL 342.747282 116.184735 \nL 342.826337 106.117857 \nL 342.984448 136.161687 \nL 343.142559 124.348648 \nL 343.30067 140.966427 \nL 343.379726 124.75019 \nL 343.458781 149.602255 \nL 343.537836 146.396128 \nL 343.775003 121.9068 \nL 343.854058 130.932263 \nL 343.933114 111.826908 \nL 344.091225 133.140172 \nL 344.328391 104.225652 \nL 344.565558 149.462896 \nL 344.723669 132.506193 \nL 344.88178 120.506564 \nL 344.960835 130.705048 \nL 345.039891 119.68117 \nL 345.198002 138.463582 \nL 345.277057 133.185543 \nL 345.356113 137.402706 \nL 345.593279 121.554823 \nL 345.672335 132.966398 \nL 345.830446 105.246102 \nL 345.909501 109.288581 \nL 346.067612 140.373034 \nL 346.146668 130.917904 \nL 346.225723 138.753455 \nL 346.383834 120.731604 \nL 346.46289 123.115541 \nL 346.621001 139.947441 \nL 346.700056 117.333626 \nL 346.779112 140.057647 \nL 346.858167 117.115588 \nL 347.016278 128.282741 \nL 347.095334 128.714109 \nL 347.174389 127.039705 \nL 347.253445 110.126594 \nL 347.3325 148.503364 \nL 347.411555 138.598392 \nL 347.569666 139.714095 \nL 347.806833 126.04386 \nL 347.885888 137.513544 \nL 348.043999 124.392438 \nL 348.123055 138.564848 \nL 348.20211 134.321578 \nL 348.281166 129.906908 \nL 348.360221 115.499569 \nL 348.439277 142.778252 \nL 348.597388 126.876097 \nL 348.755499 117.951307 \nL 348.834554 129.176055 \nL 348.91361 118.725159 \nL 348.992665 137.641471 \nL 349.071721 135.788625 \nL 349.229832 118.182161 \nL 349.308887 119.466969 \nL 349.387943 123.501102 \nL 349.466998 115.403367 \nL 349.546054 140.092496 \nL 349.704165 120.074919 \nL 349.78322 114.068638 \nL 349.941331 126.969254 \nL 350.020387 120.615979 \nL 350.099442 137.313544 \nL 350.257553 119.83295 \nL 350.336609 124.175231 \nL 350.415664 120.684571 \nL 350.49472 122.904742 \nL 350.573775 104.513349 \nL 350.652831 139.674934 \nL 350.731886 128.195083 \nL 350.969053 110.550011 \nL 351.048108 120.871596 \nL 351.127164 113.466898 \nL 351.206219 134.851245 \nL 351.285274 121.259372 \nL 351.36433 133.011612 \nL 351.443385 125.857309 \nL 351.522441 126.262253 \nL 351.601496 122.77005 \nL 351.680552 110.462748 \nL 351.759607 134.684553 \nL 351.838663 114.965037 \nL 351.917718 119.008346 \nL 351.996774 111.867612 \nL 352.075829 113.140277 \nL 352.154885 114.41749 \nL 352.23394 101.639817 \nL 352.312996 123.551102 \nL 352.550162 100.034993 \nL 352.629218 98.011261 \nL 352.866384 135.620785 \nL 353.024495 114.727774 \nL 353.182606 120.119579 \nL 353.340717 100.768378 \nL 353.419773 119.822072 \nL 353.498828 98.317709 \nL 353.577884 107.978297 \nL 353.656939 101.396146 \nL 353.735995 113.890236 \nL 353.894106 100.2772 \nL 353.973161 125.520957 \nL 354.210328 91.387575 \nL 354.289383 90.856959 \nL 354.368439 95.517198 \nL 354.447494 89.50878 \nL 354.52655 126.839428 \nL 354.605605 101.699587 \nL 354.684661 101.85821 \nL 354.763716 101.854532 \nL 355.000883 80.558357 \nL 355.079938 103.438351 \nL 355.238049 69.49417 \nL 355.475215 87.757754 \nL 355.554271 77.304603 \nL 355.633326 97.89445 \nL 355.791437 70.475893 \nL 355.949548 75.825807 \nL 356.028604 75.483284 \nL 356.107659 70.588987 \nL 356.186715 94.550941 \nL 356.423881 49.226435 \nL 356.502937 41.809554 \nL 356.581992 41.9965 \nL 356.661048 47.954957 \nL 356.819159 90.159096 \nL 356.97727 62.79766 \nL 357.135381 49.174932 \nL 357.214436 59.029785 \nL 357.293492 86.788451 \nL 357.451603 50.824969 \nL 357.609714 39.133924 \nL 357.688769 48.963975 \nL 357.767825 41.398953 \nL 357.84688 72.913825 \nL 357.925936 49.822399 \nL 358.004991 60.752172 \nL 358.084047 54.686396 \nL 358.163102 56.554195 \nL 358.242158 54.650716 \nL 358.321213 62.111268 \nL 358.479324 96.901927 \nL 358.716491 70.193259 \nL 358.795546 70.734793 \nL 358.874602 77.806382 \nL 358.953657 97.92119 \nL 359.111768 64.240379 \nL 359.190823 68.073365 \nL 359.348934 40.241637 \nL 359.42799 48.024696 \nL 359.507045 79.824971 \nL 359.665156 35.074475 \nL 359.744212 34.457665 \nL 360.060434 82.713259 \nL 360.139489 63.481163 \nL 360.218545 65.160829 \nL 360.2976 55.941577 \nL 360.534767 66.165891 \nL 360.613822 88.035602 \nL 360.692878 44.25785 \nL 360.771933 54.2915 \nL 360.930044 33.023845 \nL 361.088155 46.927862 \nL 361.167211 72.617821 \nL 361.404377 36.996506 \nL 361.483433 40.189619 \nL 361.720599 75.744913 \nL 361.799655 31.042321 \nL 361.87871 36.357899 \nL 361.957766 35.996864 \nL 362.115877 43.876996 \nL 362.194932 43.528895 \nL 362.273988 64.795521 \nL 362.353043 30.819932 \nL 362.432099 41.645313 \nL 362.511154 45.305712 \nL 362.669265 103.659157 \nL 362.748321 74.89266 \nL 362.827376 90.316611 \nL 363.064543 34.07333 \nL 363.222653 81.814289 \nL 363.301709 69.616915 \nL 363.380764 66.726689 \nL 363.617931 35.067672 \nL 363.696986 29.678952 \nL 363.934153 61.893626 \nL 364.013208 33.984208 \nL 364.092264 36.899869 \nL 364.32943 71.302712 \nL 364.408486 64.217871 \nL 364.487541 72.544285 \nL 364.566597 44.176125 \nL 364.645652 54.319902 \nL 364.803763 61.844536 \nL 364.882819 54.245653 \nL 365.04093 85.847392 \nL 365.199041 47.014531 \nL 365.278096 56.564242 \nL 365.357152 47.022996 \nL 365.436207 52.423345 \nL 365.594318 86.968712 \nL 365.594318 86.968712 \n\" style=\"fill:none;stroke:#1f77b4;stroke-linecap:square;stroke-width:1.5;\"/>\n   </g>\n   <g id=\"patch_3\">\n    <path d=\"M 46.0125 224.64 \nL 46.0125 7.2 \n\" style=\"fill:none;stroke:#000000;stroke-linecap:square;stroke-linejoin:miter;stroke-width:0.8;\"/>\n   </g>\n   <g id=\"patch_4\">\n    <path d=\"M 380.8125 224.64 \nL 380.8125 7.2 \n\" style=\"fill:none;stroke:#000000;stroke-linecap:square;stroke-linejoin:miter;stroke-width:0.8;\"/>\n   </g>\n   <g id=\"patch_5\">\n    <path d=\"M 46.0125 224.64 \nL 380.8125 224.64 \n\" style=\"fill:none;stroke:#000000;stroke-linecap:square;stroke-linejoin:miter;stroke-width:0.8;\"/>\n   </g>\n   <g id=\"patch_6\">\n    <path d=\"M 46.0125 7.2 \nL 380.8125 7.2 \n\" style=\"fill:none;stroke:#000000;stroke-linecap:square;stroke-linejoin:miter;stroke-width:0.8;\"/>\n   </g>\n  </g>\n </g>\n <defs>\n  <clipPath id=\"pb2b65384eb\">\n   <rect height=\"217.44\" width=\"334.8\" x=\"46.0125\" y=\"7.2\"/>\n  </clipPath>\n </defs>\n</svg>\n"
          },
          "metadata": {
            "tags": [],
            "needs_background": "light"
          }
        }
      ]
    },
    {
      "cell_type": "code",
      "metadata": {
        "id": "6QWkpnjQ9elb"
      },
      "source": [
        "def weekly_plot(serie):\n",
        "  groups = serie[8:].groupby(pd.Grouper(freq='D'))\n",
        "  values = list()\n",
        "  days = list()\n",
        "  for name, group in groups:\n",
        "    df = DataFrame(group.values)\n",
        "    values.append(name.day)\n",
        "  df = concat(values, ignore_index=True, axis=1)\n",
        "  df.columns = days\n",
        "  df.plot(subplots=False, legend=True)\n",
        "  pyplot.show()\n",
        "\n",
        "weekly_plot(ts2)"
      ],
      "execution_count": null,
      "outputs": []
    },
    {
      "cell_type": "markdown",
      "metadata": {
        "id": "OJq8yjpgx-4A"
      },
      "source": [
        "#Distribuição de Frequência\n"
      ]
    },
    {
      "cell_type": "code",
      "metadata": {
        "colab": {
          "base_uri": "https://localhost:8080/",
          "height": 352
        },
        "id": "RdUrNBBdUsRw",
        "outputId": "7ffb35af-3359-4a86-8ea1-f6819a84c446"
      },
      "source": [
        "ts_50_per.hist()\n",
        "plt.rcParams[\"figure.figsize\"] = [1,1]\n",
        "plt.show()"
      ],
      "execution_count": 67,
      "outputs": [
        {
          "output_type": "display_data",
          "data": {
            "text/plain": [
              "<Figure size 432x288 with 1 Axes>"
            ],
            "image/svg+xml": "<?xml version=\"1.0\" encoding=\"utf-8\" standalone=\"no\"?>\n<!DOCTYPE svg PUBLIC \"-//W3C//DTD SVG 1.1//EN\"\n  \"http://www.w3.org/Graphics/SVG/1.1/DTD/svg11.dtd\">\n<!-- Created with matplotlib (https://matplotlib.org/) -->\n<svg height=\"248.518125pt\" version=\"1.1\" viewBox=\"0 0 375.2875 248.518125\" width=\"375.2875pt\" xmlns=\"http://www.w3.org/2000/svg\" xmlns:xlink=\"http://www.w3.org/1999/xlink\">\n <defs>\n  <style type=\"text/css\">\n*{stroke-linecap:butt;stroke-linejoin:round;}\n  </style>\n </defs>\n <g id=\"figure_1\">\n  <g id=\"patch_1\">\n   <path d=\"M 0 248.518125 \nL 375.2875 248.518125 \nL 375.2875 0 \nL 0 0 \nz\n\" style=\"fill:none;\"/>\n  </g>\n  <g id=\"axes_1\">\n   <g id=\"patch_2\">\n    <path d=\"M 33.2875 224.64 \nL 368.0875 224.64 \nL 368.0875 7.2 \nL 33.2875 7.2 \nz\n\" style=\"fill:#ffffff;\"/>\n   </g>\n   <g id=\"patch_3\">\n    <path clip-path=\"url(#p335e502df9)\" d=\"M 48.505682 224.64 \nL 78.942045 224.64 \nL 78.942045 218.449938 \nL 48.505682 218.449938 \nz\n\" style=\"fill:#1f77b4;\"/>\n   </g>\n   <g id=\"patch_4\">\n    <path clip-path=\"url(#p335e502df9)\" d=\"M 78.942045 224.64 \nL 109.378409 224.64 \nL 109.378409 173.994037 \nL 78.942045 173.994037 \nz\n\" style=\"fill:#1f77b4;\"/>\n   </g>\n   <g id=\"patch_5\">\n    <path clip-path=\"url(#p335e502df9)\" d=\"M 109.378409 224.64 \nL 139.814773 224.64 \nL 139.814773 128.131304 \nL 109.378409 128.131304 \nz\n\" style=\"fill:#1f77b4;\"/>\n   </g>\n   <g id=\"patch_6\">\n    <path clip-path=\"url(#p335e502df9)\" d=\"M 139.814773 224.64 \nL 170.251136 224.64 \nL 170.251136 84.238137 \nL 139.814773 84.238137 \nz\n\" style=\"fill:#1f77b4;\"/>\n   </g>\n   <g id=\"patch_7\">\n    <path clip-path=\"url(#p335e502df9)\" d=\"M 170.251136 224.64 \nL 200.6875 224.64 \nL 200.6875 23.744348 \nL 170.251136 23.744348 \nz\n\" style=\"fill:#1f77b4;\"/>\n   </g>\n   <g id=\"patch_8\">\n    <path clip-path=\"url(#p335e502df9)\" d=\"M 200.6875 224.64 \nL 231.123864 224.64 \nL 231.123864 17.554286 \nL 200.6875 17.554286 \nz\n\" style=\"fill:#1f77b4;\"/>\n   </g>\n   <g id=\"patch_9\">\n    <path clip-path=\"url(#p335e502df9)\" d=\"M 231.123864 224.64 \nL 261.560227 224.64 \nL 261.560227 50.192795 \nL 231.123864 50.192795 \nz\n\" style=\"fill:#1f77b4;\"/>\n   </g>\n   <g id=\"patch_10\">\n    <path clip-path=\"url(#p335e502df9)\" d=\"M 261.560227 224.64 \nL 291.996591 224.64 \nL 291.996591 103.089689 \nL 261.560227 103.089689 \nz\n\" style=\"fill:#1f77b4;\"/>\n   </g>\n   <g id=\"patch_11\">\n    <path clip-path=\"url(#p335e502df9)\" d=\"M 291.996591 224.64 \nL 322.432955 224.64 \nL 322.432955 154.017019 \nL 291.996591 154.017019 \nz\n\" style=\"fill:#1f77b4;\"/>\n   </g>\n   <g id=\"patch_12\">\n    <path clip-path=\"url(#p335e502df9)\" d=\"M 322.432955 224.64 \nL 352.869318 224.64 \nL 352.869318 209.727578 \nL 322.432955 209.727578 \nz\n\" style=\"fill:#1f77b4;\"/>\n   </g>\n   <g id=\"matplotlib.axis_1\">\n    <g id=\"xtick_1\">\n     <g id=\"line2d_1\">\n      <path clip-path=\"url(#p335e502df9)\" d=\"M 90.544416 224.64 \nL 90.544416 7.2 \n\" style=\"fill:none;stroke:#b0b0b0;stroke-linecap:square;stroke-width:0.8;\"/>\n     </g>\n     <g id=\"line2d_2\">\n      <defs>\n       <path d=\"M 0 0 \nL 0 3.5 \n\" id=\"m19aae317bf\" style=\"stroke:#000000;stroke-width:0.8;\"/>\n      </defs>\n      <g>\n       <use style=\"stroke:#000000;stroke-width:0.8;\" x=\"90.544416\" xlink:href=\"#m19aae317bf\" y=\"224.64\"/>\n      </g>\n     </g>\n     <g id=\"text_1\">\n      <!-- 9000 -->\n      <defs>\n       <path d=\"M 10.984375 1.515625 \nL 10.984375 10.5 \nQ 14.703125 8.734375 18.5 7.8125 \nQ 22.3125 6.890625 25.984375 6.890625 \nQ 35.75 6.890625 40.890625 13.453125 \nQ 46.046875 20.015625 46.78125 33.40625 \nQ 43.953125 29.203125 39.59375 26.953125 \nQ 35.25 24.703125 29.984375 24.703125 \nQ 19.046875 24.703125 12.671875 31.3125 \nQ 6.296875 37.9375 6.296875 49.421875 \nQ 6.296875 60.640625 12.9375 67.421875 \nQ 19.578125 74.21875 30.609375 74.21875 \nQ 43.265625 74.21875 49.921875 64.515625 \nQ 56.59375 54.828125 56.59375 36.375 \nQ 56.59375 19.140625 48.40625 8.859375 \nQ 40.234375 -1.421875 26.421875 -1.421875 \nQ 22.703125 -1.421875 18.890625 -0.6875 \nQ 15.09375 0.046875 10.984375 1.515625 \nz\nM 30.609375 32.421875 \nQ 37.25 32.421875 41.125 36.953125 \nQ 45.015625 41.5 45.015625 49.421875 \nQ 45.015625 57.28125 41.125 61.84375 \nQ 37.25 66.40625 30.609375 66.40625 \nQ 23.96875 66.40625 20.09375 61.84375 \nQ 16.21875 57.28125 16.21875 49.421875 \nQ 16.21875 41.5 20.09375 36.953125 \nQ 23.96875 32.421875 30.609375 32.421875 \nz\n\" id=\"DejaVuSans-57\"/>\n       <path d=\"M 31.78125 66.40625 \nQ 24.171875 66.40625 20.328125 58.90625 \nQ 16.5 51.421875 16.5 36.375 \nQ 16.5 21.390625 20.328125 13.890625 \nQ 24.171875 6.390625 31.78125 6.390625 \nQ 39.453125 6.390625 43.28125 13.890625 \nQ 47.125 21.390625 47.125 36.375 \nQ 47.125 51.421875 43.28125 58.90625 \nQ 39.453125 66.40625 31.78125 66.40625 \nz\nM 31.78125 74.21875 \nQ 44.046875 74.21875 50.515625 64.515625 \nQ 56.984375 54.828125 56.984375 36.375 \nQ 56.984375 17.96875 50.515625 8.265625 \nQ 44.046875 -1.421875 31.78125 -1.421875 \nQ 19.53125 -1.421875 13.0625 8.265625 \nQ 6.59375 17.96875 6.59375 36.375 \nQ 6.59375 54.828125 13.0625 64.515625 \nQ 19.53125 74.21875 31.78125 74.21875 \nz\n\" id=\"DejaVuSans-48\"/>\n      </defs>\n      <g transform=\"translate(77.819416 239.238437)scale(0.1 -0.1)\">\n       <use xlink:href=\"#DejaVuSans-57\"/>\n       <use x=\"63.623047\" xlink:href=\"#DejaVuSans-48\"/>\n       <use x=\"127.246094\" xlink:href=\"#DejaVuSans-48\"/>\n       <use x=\"190.869141\" xlink:href=\"#DejaVuSans-48\"/>\n      </g>\n     </g>\n    </g>\n    <g id=\"xtick_2\">\n     <g id=\"line2d_3\">\n      <path clip-path=\"url(#p335e502df9)\" d=\"M 151.45158 224.64 \nL 151.45158 7.2 \n\" style=\"fill:none;stroke:#b0b0b0;stroke-linecap:square;stroke-width:0.8;\"/>\n     </g>\n     <g id=\"line2d_4\">\n      <g>\n       <use style=\"stroke:#000000;stroke-width:0.8;\" x=\"151.45158\" xlink:href=\"#m19aae317bf\" y=\"224.64\"/>\n      </g>\n     </g>\n     <g id=\"text_2\">\n      <!-- 10000 -->\n      <defs>\n       <path d=\"M 12.40625 8.296875 \nL 28.515625 8.296875 \nL 28.515625 63.921875 \nL 10.984375 60.40625 \nL 10.984375 69.390625 \nL 28.421875 72.90625 \nL 38.28125 72.90625 \nL 38.28125 8.296875 \nL 54.390625 8.296875 \nL 54.390625 0 \nL 12.40625 0 \nz\n\" id=\"DejaVuSans-49\"/>\n      </defs>\n      <g transform=\"translate(135.54533 239.238437)scale(0.1 -0.1)\">\n       <use xlink:href=\"#DejaVuSans-49\"/>\n       <use x=\"63.623047\" xlink:href=\"#DejaVuSans-48\"/>\n       <use x=\"127.246094\" xlink:href=\"#DejaVuSans-48\"/>\n       <use x=\"190.869141\" xlink:href=\"#DejaVuSans-48\"/>\n       <use x=\"254.492188\" xlink:href=\"#DejaVuSans-48\"/>\n      </g>\n     </g>\n    </g>\n    <g id=\"xtick_3\">\n     <g id=\"line2d_5\">\n      <path clip-path=\"url(#p335e502df9)\" d=\"M 212.358744 224.64 \nL 212.358744 7.2 \n\" style=\"fill:none;stroke:#b0b0b0;stroke-linecap:square;stroke-width:0.8;\"/>\n     </g>\n     <g id=\"line2d_6\">\n      <g>\n       <use style=\"stroke:#000000;stroke-width:0.8;\" x=\"212.358744\" xlink:href=\"#m19aae317bf\" y=\"224.64\"/>\n      </g>\n     </g>\n     <g id=\"text_3\">\n      <!-- 11000 -->\n      <g transform=\"translate(196.452494 239.238437)scale(0.1 -0.1)\">\n       <use xlink:href=\"#DejaVuSans-49\"/>\n       <use x=\"63.623047\" xlink:href=\"#DejaVuSans-49\"/>\n       <use x=\"127.246094\" xlink:href=\"#DejaVuSans-48\"/>\n       <use x=\"190.869141\" xlink:href=\"#DejaVuSans-48\"/>\n       <use x=\"254.492188\" xlink:href=\"#DejaVuSans-48\"/>\n      </g>\n     </g>\n    </g>\n    <g id=\"xtick_4\">\n     <g id=\"line2d_7\">\n      <path clip-path=\"url(#p335e502df9)\" d=\"M 273.265908 224.64 \nL 273.265908 7.2 \n\" style=\"fill:none;stroke:#b0b0b0;stroke-linecap:square;stroke-width:0.8;\"/>\n     </g>\n     <g id=\"line2d_8\">\n      <g>\n       <use style=\"stroke:#000000;stroke-width:0.8;\" x=\"273.265908\" xlink:href=\"#m19aae317bf\" y=\"224.64\"/>\n      </g>\n     </g>\n     <g id=\"text_4\">\n      <!-- 12000 -->\n      <defs>\n       <path d=\"M 19.1875 8.296875 \nL 53.609375 8.296875 \nL 53.609375 0 \nL 7.328125 0 \nL 7.328125 8.296875 \nQ 12.9375 14.109375 22.625 23.890625 \nQ 32.328125 33.6875 34.8125 36.53125 \nQ 39.546875 41.84375 41.421875 45.53125 \nQ 43.3125 49.21875 43.3125 52.78125 \nQ 43.3125 58.59375 39.234375 62.25 \nQ 35.15625 65.921875 28.609375 65.921875 \nQ 23.96875 65.921875 18.8125 64.3125 \nQ 13.671875 62.703125 7.8125 59.421875 \nL 7.8125 69.390625 \nQ 13.765625 71.78125 18.9375 73 \nQ 24.125 74.21875 28.421875 74.21875 \nQ 39.75 74.21875 46.484375 68.546875 \nQ 53.21875 62.890625 53.21875 53.421875 \nQ 53.21875 48.921875 51.53125 44.890625 \nQ 49.859375 40.875 45.40625 35.40625 \nQ 44.1875 33.984375 37.640625 27.21875 \nQ 31.109375 20.453125 19.1875 8.296875 \nz\n\" id=\"DejaVuSans-50\"/>\n      </defs>\n      <g transform=\"translate(257.359658 239.238437)scale(0.1 -0.1)\">\n       <use xlink:href=\"#DejaVuSans-49\"/>\n       <use x=\"63.623047\" xlink:href=\"#DejaVuSans-50\"/>\n       <use x=\"127.246094\" xlink:href=\"#DejaVuSans-48\"/>\n       <use x=\"190.869141\" xlink:href=\"#DejaVuSans-48\"/>\n       <use x=\"254.492188\" xlink:href=\"#DejaVuSans-48\"/>\n      </g>\n     </g>\n    </g>\n    <g id=\"xtick_5\">\n     <g id=\"line2d_9\">\n      <path clip-path=\"url(#p335e502df9)\" d=\"M 334.173072 224.64 \nL 334.173072 7.2 \n\" style=\"fill:none;stroke:#b0b0b0;stroke-linecap:square;stroke-width:0.8;\"/>\n     </g>\n     <g id=\"line2d_10\">\n      <g>\n       <use style=\"stroke:#000000;stroke-width:0.8;\" x=\"334.173072\" xlink:href=\"#m19aae317bf\" y=\"224.64\"/>\n      </g>\n     </g>\n     <g id=\"text_5\">\n      <!-- 13000 -->\n      <defs>\n       <path d=\"M 40.578125 39.3125 \nQ 47.65625 37.796875 51.625 33 \nQ 55.609375 28.21875 55.609375 21.1875 \nQ 55.609375 10.40625 48.1875 4.484375 \nQ 40.765625 -1.421875 27.09375 -1.421875 \nQ 22.515625 -1.421875 17.65625 -0.515625 \nQ 12.796875 0.390625 7.625 2.203125 \nL 7.625 11.71875 \nQ 11.71875 9.328125 16.59375 8.109375 \nQ 21.484375 6.890625 26.8125 6.890625 \nQ 36.078125 6.890625 40.9375 10.546875 \nQ 45.796875 14.203125 45.796875 21.1875 \nQ 45.796875 27.640625 41.28125 31.265625 \nQ 36.765625 34.90625 28.71875 34.90625 \nL 20.21875 34.90625 \nL 20.21875 43.015625 \nL 29.109375 43.015625 \nQ 36.375 43.015625 40.234375 45.921875 \nQ 44.09375 48.828125 44.09375 54.296875 \nQ 44.09375 59.90625 40.109375 62.90625 \nQ 36.140625 65.921875 28.71875 65.921875 \nQ 24.65625 65.921875 20.015625 65.03125 \nQ 15.375 64.15625 9.8125 62.3125 \nL 9.8125 71.09375 \nQ 15.4375 72.65625 20.34375 73.4375 \nQ 25.25 74.21875 29.59375 74.21875 \nQ 40.828125 74.21875 47.359375 69.109375 \nQ 53.90625 64.015625 53.90625 55.328125 \nQ 53.90625 49.265625 50.4375 45.09375 \nQ 46.96875 40.921875 40.578125 39.3125 \nz\n\" id=\"DejaVuSans-51\"/>\n      </defs>\n      <g transform=\"translate(318.266822 239.238437)scale(0.1 -0.1)\">\n       <use xlink:href=\"#DejaVuSans-49\"/>\n       <use x=\"63.623047\" xlink:href=\"#DejaVuSans-51\"/>\n       <use x=\"127.246094\" xlink:href=\"#DejaVuSans-48\"/>\n       <use x=\"190.869141\" xlink:href=\"#DejaVuSans-48\"/>\n       <use x=\"254.492188\" xlink:href=\"#DejaVuSans-48\"/>\n      </g>\n     </g>\n    </g>\n   </g>\n   <g id=\"matplotlib.axis_2\">\n    <g id=\"ytick_1\">\n     <g id=\"line2d_11\">\n      <path clip-path=\"url(#p335e502df9)\" d=\"M 33.2875 224.64 \nL 368.0875 224.64 \n\" style=\"fill:none;stroke:#b0b0b0;stroke-linecap:square;stroke-width:0.8;\"/>\n     </g>\n     <g id=\"line2d_12\">\n      <defs>\n       <path d=\"M 0 0 \nL -3.5 0 \n\" id=\"m1e8ff6efa1\" style=\"stroke:#000000;stroke-width:0.8;\"/>\n      </defs>\n      <g>\n       <use style=\"stroke:#000000;stroke-width:0.8;\" x=\"33.2875\" xlink:href=\"#m1e8ff6efa1\" y=\"224.64\"/>\n      </g>\n     </g>\n     <g id=\"text_6\">\n      <!-- 0 -->\n      <g transform=\"translate(19.925 228.439219)scale(0.1 -0.1)\">\n       <use xlink:href=\"#DejaVuSans-48\"/>\n      </g>\n     </g>\n    </g>\n    <g id=\"ytick_2\">\n     <g id=\"line2d_13\">\n      <path clip-path=\"url(#p335e502df9)\" d=\"M 33.2875 196.503354 \nL 368.0875 196.503354 \n\" style=\"fill:none;stroke:#b0b0b0;stroke-linecap:square;stroke-width:0.8;\"/>\n     </g>\n     <g id=\"line2d_14\">\n      <g>\n       <use style=\"stroke:#000000;stroke-width:0.8;\" x=\"33.2875\" xlink:href=\"#m1e8ff6efa1\" y=\"196.503354\"/>\n      </g>\n     </g>\n     <g id=\"text_7\">\n      <!-- 100 -->\n      <g transform=\"translate(7.2 200.302573)scale(0.1 -0.1)\">\n       <use xlink:href=\"#DejaVuSans-49\"/>\n       <use x=\"63.623047\" xlink:href=\"#DejaVuSans-48\"/>\n       <use x=\"127.246094\" xlink:href=\"#DejaVuSans-48\"/>\n      </g>\n     </g>\n    </g>\n    <g id=\"ytick_3\">\n     <g id=\"line2d_15\">\n      <path clip-path=\"url(#p335e502df9)\" d=\"M 33.2875 168.366708 \nL 368.0875 168.366708 \n\" style=\"fill:none;stroke:#b0b0b0;stroke-linecap:square;stroke-width:0.8;\"/>\n     </g>\n     <g id=\"line2d_16\">\n      <g>\n       <use style=\"stroke:#000000;stroke-width:0.8;\" x=\"33.2875\" xlink:href=\"#m1e8ff6efa1\" y=\"168.366708\"/>\n      </g>\n     </g>\n     <g id=\"text_8\">\n      <!-- 200 -->\n      <g transform=\"translate(7.2 172.165927)scale(0.1 -0.1)\">\n       <use xlink:href=\"#DejaVuSans-50\"/>\n       <use x=\"63.623047\" xlink:href=\"#DejaVuSans-48\"/>\n       <use x=\"127.246094\" xlink:href=\"#DejaVuSans-48\"/>\n      </g>\n     </g>\n    </g>\n    <g id=\"ytick_4\">\n     <g id=\"line2d_17\">\n      <path clip-path=\"url(#p335e502df9)\" d=\"M 33.2875 140.230062 \nL 368.0875 140.230062 \n\" style=\"fill:none;stroke:#b0b0b0;stroke-linecap:square;stroke-width:0.8;\"/>\n     </g>\n     <g id=\"line2d_18\">\n      <g>\n       <use style=\"stroke:#000000;stroke-width:0.8;\" x=\"33.2875\" xlink:href=\"#m1e8ff6efa1\" y=\"140.230062\"/>\n      </g>\n     </g>\n     <g id=\"text_9\">\n      <!-- 300 -->\n      <g transform=\"translate(7.2 144.029281)scale(0.1 -0.1)\">\n       <use xlink:href=\"#DejaVuSans-51\"/>\n       <use x=\"63.623047\" xlink:href=\"#DejaVuSans-48\"/>\n       <use x=\"127.246094\" xlink:href=\"#DejaVuSans-48\"/>\n      </g>\n     </g>\n    </g>\n    <g id=\"ytick_5\">\n     <g id=\"line2d_19\">\n      <path clip-path=\"url(#p335e502df9)\" d=\"M 33.2875 112.093416 \nL 368.0875 112.093416 \n\" style=\"fill:none;stroke:#b0b0b0;stroke-linecap:square;stroke-width:0.8;\"/>\n     </g>\n     <g id=\"line2d_20\">\n      <g>\n       <use style=\"stroke:#000000;stroke-width:0.8;\" x=\"33.2875\" xlink:href=\"#m1e8ff6efa1\" y=\"112.093416\"/>\n      </g>\n     </g>\n     <g id=\"text_10\">\n      <!-- 400 -->\n      <defs>\n       <path d=\"M 37.796875 64.3125 \nL 12.890625 25.390625 \nL 37.796875 25.390625 \nz\nM 35.203125 72.90625 \nL 47.609375 72.90625 \nL 47.609375 25.390625 \nL 58.015625 25.390625 \nL 58.015625 17.1875 \nL 47.609375 17.1875 \nL 47.609375 0 \nL 37.796875 0 \nL 37.796875 17.1875 \nL 4.890625 17.1875 \nL 4.890625 26.703125 \nz\n\" id=\"DejaVuSans-52\"/>\n      </defs>\n      <g transform=\"translate(7.2 115.892635)scale(0.1 -0.1)\">\n       <use xlink:href=\"#DejaVuSans-52\"/>\n       <use x=\"63.623047\" xlink:href=\"#DejaVuSans-48\"/>\n       <use x=\"127.246094\" xlink:href=\"#DejaVuSans-48\"/>\n      </g>\n     </g>\n    </g>\n    <g id=\"ytick_6\">\n     <g id=\"line2d_21\">\n      <path clip-path=\"url(#p335e502df9)\" d=\"M 33.2875 83.95677 \nL 368.0875 83.95677 \n\" style=\"fill:none;stroke:#b0b0b0;stroke-linecap:square;stroke-width:0.8;\"/>\n     </g>\n     <g id=\"line2d_22\">\n      <g>\n       <use style=\"stroke:#000000;stroke-width:0.8;\" x=\"33.2875\" xlink:href=\"#m1e8ff6efa1\" y=\"83.95677\"/>\n      </g>\n     </g>\n     <g id=\"text_11\">\n      <!-- 500 -->\n      <defs>\n       <path d=\"M 10.796875 72.90625 \nL 49.515625 72.90625 \nL 49.515625 64.59375 \nL 19.828125 64.59375 \nL 19.828125 46.734375 \nQ 21.96875 47.46875 24.109375 47.828125 \nQ 26.265625 48.1875 28.421875 48.1875 \nQ 40.625 48.1875 47.75 41.5 \nQ 54.890625 34.8125 54.890625 23.390625 \nQ 54.890625 11.625 47.5625 5.09375 \nQ 40.234375 -1.421875 26.90625 -1.421875 \nQ 22.3125 -1.421875 17.546875 -0.640625 \nQ 12.796875 0.140625 7.71875 1.703125 \nL 7.71875 11.625 \nQ 12.109375 9.234375 16.796875 8.0625 \nQ 21.484375 6.890625 26.703125 6.890625 \nQ 35.15625 6.890625 40.078125 11.328125 \nQ 45.015625 15.765625 45.015625 23.390625 \nQ 45.015625 31 40.078125 35.4375 \nQ 35.15625 39.890625 26.703125 39.890625 \nQ 22.75 39.890625 18.8125 39.015625 \nQ 14.890625 38.140625 10.796875 36.28125 \nz\n\" id=\"DejaVuSans-53\"/>\n      </defs>\n      <g transform=\"translate(7.2 87.755989)scale(0.1 -0.1)\">\n       <use xlink:href=\"#DejaVuSans-53\"/>\n       <use x=\"63.623047\" xlink:href=\"#DejaVuSans-48\"/>\n       <use x=\"127.246094\" xlink:href=\"#DejaVuSans-48\"/>\n      </g>\n     </g>\n    </g>\n    <g id=\"ytick_7\">\n     <g id=\"line2d_23\">\n      <path clip-path=\"url(#p335e502df9)\" d=\"M 33.2875 55.820124 \nL 368.0875 55.820124 \n\" style=\"fill:none;stroke:#b0b0b0;stroke-linecap:square;stroke-width:0.8;\"/>\n     </g>\n     <g id=\"line2d_24\">\n      <g>\n       <use style=\"stroke:#000000;stroke-width:0.8;\" x=\"33.2875\" xlink:href=\"#m1e8ff6efa1\" y=\"55.820124\"/>\n      </g>\n     </g>\n     <g id=\"text_12\">\n      <!-- 600 -->\n      <defs>\n       <path d=\"M 33.015625 40.375 \nQ 26.375 40.375 22.484375 35.828125 \nQ 18.609375 31.296875 18.609375 23.390625 \nQ 18.609375 15.53125 22.484375 10.953125 \nQ 26.375 6.390625 33.015625 6.390625 \nQ 39.65625 6.390625 43.53125 10.953125 \nQ 47.40625 15.53125 47.40625 23.390625 \nQ 47.40625 31.296875 43.53125 35.828125 \nQ 39.65625 40.375 33.015625 40.375 \nz\nM 52.59375 71.296875 \nL 52.59375 62.3125 \nQ 48.875 64.0625 45.09375 64.984375 \nQ 41.3125 65.921875 37.59375 65.921875 \nQ 27.828125 65.921875 22.671875 59.328125 \nQ 17.53125 52.734375 16.796875 39.40625 \nQ 19.671875 43.65625 24.015625 45.921875 \nQ 28.375 48.1875 33.59375 48.1875 \nQ 44.578125 48.1875 50.953125 41.515625 \nQ 57.328125 34.859375 57.328125 23.390625 \nQ 57.328125 12.15625 50.6875 5.359375 \nQ 44.046875 -1.421875 33.015625 -1.421875 \nQ 20.359375 -1.421875 13.671875 8.265625 \nQ 6.984375 17.96875 6.984375 36.375 \nQ 6.984375 53.65625 15.1875 63.9375 \nQ 23.390625 74.21875 37.203125 74.21875 \nQ 40.921875 74.21875 44.703125 73.484375 \nQ 48.484375 72.75 52.59375 71.296875 \nz\n\" id=\"DejaVuSans-54\"/>\n      </defs>\n      <g transform=\"translate(7.2 59.619343)scale(0.1 -0.1)\">\n       <use xlink:href=\"#DejaVuSans-54\"/>\n       <use x=\"63.623047\" xlink:href=\"#DejaVuSans-48\"/>\n       <use x=\"127.246094\" xlink:href=\"#DejaVuSans-48\"/>\n      </g>\n     </g>\n    </g>\n    <g id=\"ytick_8\">\n     <g id=\"line2d_25\">\n      <path clip-path=\"url(#p335e502df9)\" d=\"M 33.2875 27.683478 \nL 368.0875 27.683478 \n\" style=\"fill:none;stroke:#b0b0b0;stroke-linecap:square;stroke-width:0.8;\"/>\n     </g>\n     <g id=\"line2d_26\">\n      <g>\n       <use style=\"stroke:#000000;stroke-width:0.8;\" x=\"33.2875\" xlink:href=\"#m1e8ff6efa1\" y=\"27.683478\"/>\n      </g>\n     </g>\n     <g id=\"text_13\">\n      <!-- 700 -->\n      <defs>\n       <path d=\"M 8.203125 72.90625 \nL 55.078125 72.90625 \nL 55.078125 68.703125 \nL 28.609375 0 \nL 18.3125 0 \nL 43.21875 64.59375 \nL 8.203125 64.59375 \nz\n\" id=\"DejaVuSans-55\"/>\n      </defs>\n      <g transform=\"translate(7.2 31.482697)scale(0.1 -0.1)\">\n       <use xlink:href=\"#DejaVuSans-55\"/>\n       <use x=\"63.623047\" xlink:href=\"#DejaVuSans-48\"/>\n       <use x=\"127.246094\" xlink:href=\"#DejaVuSans-48\"/>\n      </g>\n     </g>\n    </g>\n   </g>\n   <g id=\"patch_13\">\n    <path d=\"M 33.2875 224.64 \nL 33.2875 7.2 \n\" style=\"fill:none;stroke:#000000;stroke-linecap:square;stroke-linejoin:miter;stroke-width:0.8;\"/>\n   </g>\n   <g id=\"patch_14\">\n    <path d=\"M 368.0875 224.64 \nL 368.0875 7.2 \n\" style=\"fill:none;stroke:#000000;stroke-linecap:square;stroke-linejoin:miter;stroke-width:0.8;\"/>\n   </g>\n   <g id=\"patch_15\">\n    <path d=\"M 33.2875 224.64 \nL 368.0875 224.64 \n\" style=\"fill:none;stroke:#000000;stroke-linecap:square;stroke-linejoin:miter;stroke-width:0.8;\"/>\n   </g>\n   <g id=\"patch_16\">\n    <path d=\"M 33.2875 7.2 \nL 368.0875 7.2 \n\" style=\"fill:none;stroke:#000000;stroke-linecap:square;stroke-linejoin:miter;stroke-width:0.8;\"/>\n   </g>\n  </g>\n </g>\n <defs>\n  <clipPath id=\"p335e502df9\">\n   <rect height=\"217.44\" width=\"334.8\" x=\"33.2875\" y=\"7.2\"/>\n  </clipPath>\n </defs>\n</svg>\n"
          },
          "metadata": {
            "tags": [],
            "needs_background": "light"
          }
        }
      ]
    },
    {
      "cell_type": "markdown",
      "metadata": {
        "id": "q-GSdEytyYun"
      },
      "source": [
        "O Histograma apresenta uma distribuição gaussiana, indicando que a série é estacionária."
      ]
    },
    {
      "cell_type": "markdown",
      "metadata": {
        "id": "btzOpb89Z4F0"
      },
      "source": [
        "#Característica estatísticas"
      ]
    },
    {
      "cell_type": "code",
      "metadata": {
        "id": "X2WDXMrAXDIj"
      },
      "source": [
        "X = ts.values\n",
        "split = len(X) // 2\n",
        "X1, X2 = X[0:split], X[split:]\n",
        "mean1, mean2 = X1.mean(), X2.mean()\n",
        "\n",
        "var1, var2 = X1.var(), X2.var()\n",
        "print(\"Media da primeira parte: %f, \\nMedia da segunda parte:%f\" %(mean1, mean2))\n",
        "#print(f\"variancia1:{var1} \\nvariancia2:{var2}\")\n",
        "print(\"Variancia1:%f\\nVariancia2:%f\" % (var1,var2))"
      ],
      "execution_count": null,
      "outputs": []
    },
    {
      "cell_type": "code",
      "metadata": {
        "id": "j5QJ2vEB0_y-"
      },
      "source": [
        ""
      ],
      "execution_count": null,
      "outputs": []
    },
    {
      "cell_type": "code",
      "metadata": {
        "id": "iT0VBOA-an-y"
      },
      "source": [
        "from statsmodels.tsa.stattools import adfuller\n",
        "def test_stationarity(timeseries):\n",
        "    \n",
        "    #Determing rolling statistics\n",
        "    rolmean = pd.Series(timeseries).rolling(window=240).mean()\n",
        "    rolstd = pd.Series(timeseries).rolling(window=240).std()\n",
        "    #Plot rolling statistics:\n",
        "    orig = plt.plot(timeseries, color='blue',label='Original')\n",
        "    mean = plt.plot(rolmean, color='red', label='Rolling Mean')\n",
        "    std = plt.plot(rolstd, color='black', label = 'Rolling Std')\n",
        "    plt.legend(loc='best')\n",
        "    plt.title('Rolling Mean & Standard Deviation')\n",
        "    plt.show(block=False)\n",
        "    \n",
        "    #Perform Dickey-Fuller test:\n",
        "    print ('Results of Dickey-Fuller Test:')\n",
        "    dftest = adfuller(timeseries, autolag='AIC')\n",
        "    dfoutput = pd.Series(dftest[0:4], index=['ADF Statistic','p-value','#Lags Used','Number of Observations Used'])\n",
        "    for key,value in dftest[4].items():\n",
        "        dfoutput['Critical Value (%s)'%key] = value\n",
        "    print (dfoutput)\n",
        "\n",
        "test_stationarity(ts2)"
      ],
      "execution_count": null,
      "outputs": []
    },
    {
      "cell_type": "code",
      "metadata": {
        "id": "OKouhbhtJXZ8"
      },
      "source": [
        "ts_log = np.log(ts2)\n",
        "plt.plot(ts_log)\n",
        "test_stationarity(ts_log)"
      ],
      "execution_count": null,
      "outputs": []
    },
    {
      "cell_type": "code",
      "metadata": {
        "id": "PmD-szBIJjMj"
      },
      "source": [
        "moving_avg = pd.Series(ts_log).rolling(window=12).mean()\n",
        "plt.plot(ts_log)\n",
        "plt.plot(moving_avg, color='red')"
      ],
      "execution_count": null,
      "outputs": []
    },
    {
      "cell_type": "code",
      "metadata": {
        "id": "Uxqa4M5DJw94"
      },
      "source": [
        "ts_log_moving_avg_diff = ts_log - moving_avg\n",
        "ts_log_moving_avg_diff.dropna(inplace=True)\n",
        "test_stationarity(ts_log_moving_avg_diff)"
      ],
      "execution_count": null,
      "outputs": []
    },
    {
      "cell_type": "code",
      "metadata": {
        "id": "6y2m-BcgBzWP"
      },
      "source": [
        "import seaborn as sns\n",
        "import statsmodels.api as sm\n",
        "#Decompose a time serie\n",
        "decomposition = sm.tsa.seasonal_decompose(ts, model='additive')\n",
        "plt.rcParams[\"figure.figsize\"] = [16,9]\n",
        "fig = decomposition.plot()"
      ],
      "execution_count": null,
      "outputs": []
    }
  ]
}